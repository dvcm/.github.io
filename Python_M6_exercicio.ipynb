{
  "nbformat": 4,
  "nbformat_minor": 0,
  "metadata": {
    "colab": {
      "name": "Python_M6_exercicio.ipynb",
      "provenance": [],
      "collapsed_sections": [],
      "include_colab_link": true
    },
    "kernelspec": {
      "name": "python3",
      "display_name": "Python 3"
    }
  },
  "cells": [
    {
      "cell_type": "markdown",
      "metadata": {
        "id": "view-in-github",
        "colab_type": "text"
      },
      "source": [
        "<a href=\"https://colab.research.google.com/github/dvcm/.github.io/blob/main/Python_M6_exercicio.ipynb\" target=\"_parent\"><img src=\"https://colab.research.google.com/assets/colab-badge.svg\" alt=\"Open In Colab\"/></a>"
      ]
    },
    {
      "cell_type": "markdown",
      "metadata": {
        "id": "7yJy2iraWZbC"
      },
      "source": [
        "**Arquivo CSV:** banco.csv"
      ]
    },
    {
      "cell_type": "code",
      "metadata": {
        "id": "vr4DaExbiyCr",
        "colab": {
          "base_uri": "https://localhost:8080/"
        },
        "outputId": "0a9c993d-a194-4b05-c664-13784d6fceee"
      },
      "source": [
        "%%writefile banco.csv\n",
        "age,job,marital,education,default,balance,housing,loan\n",
        "30,unemployed,married,primary,no,1787,no,no\n",
        "33,services,married,secondary,no,4789,yes,yes\n",
        "35,management,single,tertiary,no,1350,yes,no\n",
        "30,management,married,tertiary,no,1476,yes,yes\n",
        "59,blue-collar,married,secondary,no,0,yes,no\n",
        "35,management,single,tertiary,no,747,no,no\n",
        "36,self-employed,married,tertiary,no,307,yes,no\n",
        "39,technician,married,secondary,no,147,yes,no\n",
        "41,entrepreneur,married,tertiary,no,221,yes,no\n",
        "43,services,married,primary,no,-88,yes,yes"
      ],
      "execution_count": null,
      "outputs": [
        {
          "output_type": "stream",
          "name": "stdout",
          "text": [
            "Writing banco.csv\n"
          ]
        }
      ]
    },
    {
      "cell_type": "code",
      "metadata": {
        "id": "fJ5OMzbar22Q",
        "colab": {
          "base_uri": "https://localhost:8080/"
        },
        "outputId": "1ba8a286-90e3-40bd-9712-02f58a449b5f"
      },
      "source": [
        "%%writefile banco-texto.txt\n",
        "age,job,marital,education,default,balance,housing,loan\n",
        "30,unemployed,married,primary,no,1787,no,no\n",
        "33,services,married,secondary,no,4789,yes,yes\n",
        "35,management,single,tertiary,no,1350,yes,no\n",
        "30,management,married,tertiary,no,1476,yes,yes\n",
        "59,blue-collar,married,secondary,no,0,yes,no\n",
        "35,management,single,tertiary,no,747,no,no\n",
        "36,self-employed,married,tertiary,no,307,yes,no\n",
        "39,technician,married,secondary,no,147,yes,no\n",
        "41,entrepreneur,married,tertiary,no,221,yes,no\n",
        "43,services,married,primary,no,-88,yes,yes"
      ],
      "execution_count": null,
      "outputs": [
        {
          "output_type": "stream",
          "name": "stdout",
          "text": [
            "Writing banco-texto.txt\n"
          ]
        }
      ]
    },
    {
      "cell_type": "code",
      "metadata": {
        "id": "mB-oJ_9FruGk"
      },
      "source": [
        "with open(file='./banco-texto.txt', mode='r', encoding='utf8') as leitura:\n",
        "  with open(file='./banco-csv.csv', mode='w', encoding='utf8') as escrita:\n",
        "    linha = leitura.readline()\n",
        "    while linha:\n",
        "      escrita.write(linha)\n",
        "      linha = leitura.readline()"
      ],
      "execution_count": null,
      "outputs": []
    },
    {
      "cell_type": "code",
      "source": [
        "%%writefile carros.csv\n",
        "id,valor_venda,valor_manutencao,portas,pessoas,porta_malas\n",
        "1,vhigh,med,2,2,small\n",
        "2,med,vhigh,2,2,small\n",
        "3,low,vhigh,2,2,small\n",
        "4,low,high,2,2,small\n",
        "5,low,high,2,2,small\n",
        "6,low,high,4,4,big\n",
        "7,low,high,4,4,big\n",
        "8,low,med,2,2,small\n",
        "9,low,med,2,2,small\n",
        "10,low,med,2,2,small\n",
        "11,low,med,4,4,big\n",
        "12,low,low,2,2,small\n",
        "13,low,low,4,4,small\n",
        "14,low,low,4,4,med"
      ],
      "metadata": {
        "colab": {
          "base_uri": "https://localhost:8080/"
        },
        "id": "vBoHuy06vATr",
        "outputId": "37fec4f1-aad5-4116-8578-c76da77b6eac"
      },
      "execution_count": null,
      "outputs": [
        {
          "output_type": "stream",
          "name": "stdout",
          "text": [
            "Writing carros.csv\n"
          ]
        }
      ]
    },
    {
      "cell_type": "markdown",
      "source": [
        "**0. Preparação do ambiente**\n",
        "\n",
        "Neste exercício vamos trabalhar com os arquivos de csv e texto definidos abaixo. \n",
        "\n",
        "Execute cada uma das células de código para escrever os arquivos na sua máquina virtual.\n",
        "\n",
        "carros.csv: arquivo csv com informações sobre carros (venda, manutenção, portas, etc.).\n"
      ],
      "metadata": {
        "id": "3KhwyXfoJZ3O"
      }
    },
    {
      "cell_type": "markdown",
      "source": [
        "**1. Classe para ler arquivos de texto**\n",
        "\n",
        "Crie a classe ArquivoTexto . Ela deve conter os seguintes atributos:\n",
        "\n",
        "self.arquivo : Atributo do tipo str com o nome do arquivo;\n",
        "\n",
        "self.conteudo : Atributo do tipo list onde cada elemento é uma linha do arquivo;\n",
        "\n",
        "A classe também deve conter o seguinte método:\n",
        "\n",
        "self.extrair_linha : Método que recebe como parâmetro o número da linha e\n",
        "retorna o seu conteúdo."
      ],
      "metadata": {
        "id": "hMEd24YsJt8q"
      }
    },
    {
      "cell_type": "code",
      "source": [
        "%%writefile musica.txt\n",
        "Roda Viva\n",
        "Chico Buarque\n",
        "Tem dias que a gente se sente\n",
        "Como quem partiu ou morreu\n",
        "A gente estancou de repente\n",
        "Ou foi o mundo então que cresceu\n",
        "A gente quer ter voz ativa\n",
        "No nosso destino mandar\n",
        "Mas eis que chega a roda viva\n",
        "E carrega o destino pra lá\n",
        "Roda mundo, roda-gigante\n",
        "Roda moinho, roda pião\n",
        "O tempo rodou num instante\n",
        "Nas voltas do meu coração\n",
        "A gente vai contra a corrente\n",
        "Até não poder resistir\n",
        "Na volta do barco é que sente\n",
        "O quanto deixou de cumprir\n",
        "Faz tempo que a gente cultiva\n",
        "A mais linda roseira que há\n",
        "Mas eis que chega a roda viva\n",
        "E carrega a roseira pra lá\n",
        "Roda mundo, roda-gigante\n",
        "Roda moinho, roda pião"
      ],
      "metadata": {
        "colab": {
          "base_uri": "https://localhost:8080/"
        },
        "id": "cBV1sfnmvNmk",
        "outputId": "379f917d-30f3-4f84-deda-90950944e078"
      },
      "execution_count": 3,
      "outputs": [
        {
          "output_type": "stream",
          "name": "stdout",
          "text": [
            "Writing musica.txt\n"
          ]
        }
      ]
    },
    {
      "cell_type": "code",
      "source": [
        "class ArquivoTexto(object):\n",
        "\n",
        "  def __init__(self, arquivo: str):\n",
        "    self.arquivo = arquivo\n",
        "    self.conteudo = self.extrair_conteudo()\n",
        "\n",
        "  def extrair_conteudo(self):\n",
        "    conteudo = None\n",
        "    with open(file=self.arquivo, mode='r', encoding='utf8') as arquivo:\n",
        "      conteudo = arquivo.readlines()\n",
        "    return conteudo \n",
        "\n",
        "  def extrair_linha(self, numero_linha: int):\n",
        "    linha_final = list()\n",
        "    contador = 0\n",
        "    for linha in self.conteudo:\n",
        "      contador += 1\n",
        "      if contador == numero_linha:\n",
        "        linha_final = linha\n",
        "    return linha_final"
      ],
      "metadata": {
        "id": "bIylD3mLJzXJ"
      },
      "execution_count": 1,
      "outputs": []
    },
    {
      "cell_type": "code",
      "source": [
        "arquivo_texto = ArquivoTexto(arquivo='./musica.txt')\n",
        "\n",
        "numero_linha = 1\n",
        "print(arquivo_texto.extrair_linha(numero_linha=numero_linha)) # Roda Viva\n",
        "\n",
        "numero_linha = 10\n",
        "print(arquivo_texto.extrair_linha(numero_linha=numero_linha)) # Mas eis que chega a roda viva"
      ],
      "metadata": {
        "colab": {
          "base_uri": "https://localhost:8080/"
        },
        "id": "jW3FqdyHtEZ-",
        "outputId": "0663cbe8-5349-4c2b-e7f4-baed4efb0ae6"
      },
      "execution_count": 4,
      "outputs": [
        {
          "output_type": "stream",
          "name": "stdout",
          "text": [
            "Roda Viva\n",
            "\n",
            "E carrega o destino pra lá\n",
            "\n"
          ]
        }
      ]
    },
    {
      "cell_type": "markdown",
      "source": [
        "**2. Classe para ler arquivos de csv**\n",
        "\n",
        "Crie a classe ArquivoCSV . \n",
        "\n",
        "Ela deve extender (herdar) a classe ArquivoTexto para\n",
        "reaproveitar os seus atributos ( self.arquivo e self.conteudo ) e método\n",
        "( self.extrair_linha ). Além disso, adicione o seguinte atributo:\n",
        "\n",
        "self.colunas : Atributo do tipo list onde os elementos são os nome das colunas;\n",
        "\n",
        "A classe também deve conter o seguinte método:\n",
        "\n",
        "self.extrair_coluna_da_linha : Método que recebe como parâmetro o numero da\n",
        "linha e o indice da coluna e retorna o valor em questão."
      ],
      "metadata": {
        "id": "K7-0SO6ctwLw"
      }
    },
    {
      "cell_type": "code",
      "source": [
        "\n",
        "class ArquivoTexto(object):\n",
        "\n",
        "  def __init__(self, arquivo: str):\n",
        "    self.arquivo = arquivo\n",
        "    self.conteudo = self.extrair_conteudo()\n",
        "\n",
        "  def extrair_conteudo(self):\n",
        "    conteudo = None\n",
        "    with open(file=self.arquivo, mode='r', encoding='utf8') as arquivo:\n",
        "      conteudo = arquivo.readlines()\n",
        "    return conteudo \n",
        "\n",
        "  def extrair_linha(self, numero_linha: int):\n",
        "    linha_final = list()\n",
        "    contador = 0\n",
        "    for linha in self.conteudo:\n",
        "      contador += 1\n",
        "      if contador == numero_linha:\n",
        "        linha_final = linha\n",
        "    return linha_final\n",
        "class ArquivoCSV(ArquivoTexto):\n",
        "\n",
        "  def __init__(self, arquivo: str):\n",
        "    super().__init__(arquivo = arquivo)\n",
        "    self.colunas = self.extrair_nome_colunas()\n",
        "\n",
        "  def extrair_nome_colunas(self):\n",
        "    return self.conteudo[0].strip().split(sep=',')\n",
        "\n",
        "  def extrair_coluna_da_linha(self, numero_linha: int, numero_coluna: int):\n",
        "    coluna = list()\n",
        "    contador = 0\n",
        "    for linha in self.conteudo:\n",
        "      conteudo_linha = linha.strip().split(sep=',')\n",
        "      coluna.append(conteudo_linha[numero_coluna - 1])\n",
        "    coluna.pop(0)\n",
        "\n",
        "    for item in coluna:\n",
        "      contador += 1\n",
        "      if contador == numero_linha:\n",
        "        resultado = item\n",
        "\n",
        "    \n",
        "    return resultado"
      ],
      "metadata": {
        "id": "0WQlCvTJt5gS"
      },
      "execution_count": null,
      "outputs": []
    },
    {
      "cell_type": "code",
      "source": [
        "arquivo_csv = ArquivoCSV(arquivo='carros.csv')\n",
        "\n",
        "numero_linha = 1\n",
        "print(arquivo_csv.extrair_linha(numero_linha=numero_linha)) # id,valor_venda,valor_manutencao,portas,pessoas,porta_malas\n",
        "\n",
        "print(arquivo_csv.colunas) # ['id', 'valor_venda', 'valor_manutencao', 'portas', 'pessoas', 'porta_malas']\n",
        "\n",
        "numero_linha = 10\n",
        "print(arquivo_csv.extrair_linha(numero_linha=numero_linha)) # 9,low,med,2,2,small\n",
        "\n",
        "numero_linha = 10\n",
        "numero_coluna = 2\n",
        "print(arquivo_csv.extrair_coluna_da_linha(numero_linha=numero_linha, numero_coluna=numero_coluna))"
      ],
      "metadata": {
        "colab": {
          "base_uri": "https://localhost:8080/"
        },
        "id": "n71etEtiBGdW",
        "outputId": "becd05c4-e4d8-45c1-9811-54ff0279f14d"
      },
      "execution_count": null,
      "outputs": [
        {
          "output_type": "stream",
          "name": "stdout",
          "text": [
            "id,valor_venda,valor_manutencao,portas,pessoas,porta_malas\n",
            "\n",
            "['id', 'valor_venda', 'valor_manutencao', 'portas', 'pessoas', 'porta_malas']\n",
            "9,low,med,2,2,small\n",
            "\n",
            "low\n"
          ]
        }
      ]
    }
  ]
}