{
  "nbformat": 4,
  "nbformat_minor": 0,
  "metadata": {
    "colab": {
      "name": "Exercicio-EBAC-03.ipynb",
      "private_outputs": true,
      "provenance": [],
      "authorship_tag": "ABX9TyOB4AtsCI6O5YIl54rZctWE",
      "include_colab_link": true
    },
    "kernelspec": {
      "name": "python3",
      "display_name": "Python 3"
    },
    "language_info": {
      "name": "python"
    }
  },
  "cells": [
    {
      "cell_type": "markdown",
      "metadata": {
        "id": "view-in-github",
        "colab_type": "text"
      },
      "source": [
        "<a href=\"https://colab.research.google.com/github/dvcm/.github.io/blob/main/Exercicio_EBAC_03.ipynb\" target=\"_parent\"><img src=\"https://colab.research.google.com/assets/colab-badge.svg\" alt=\"Open In Colab\"/></a>"
      ]
    },
    {
      "cell_type": "markdown",
      "source": [
        "**1. Dados de interação de usuários com propagandas online**\n",
        "\n",
        "Na lista propaganda_online abaixo, estão presente os dados de usuários que \n",
        "acessaram um determinado site e se o mesmo clicou em uma propaganda."
      ],
      "metadata": {
        "id": "k7NOaODTCjM7"
      }
    },
    {
      "cell_type": "code",
      "execution_count": null,
      "metadata": {
        "id": "jMC9jwK5CHYK"
      },
      "outputs": [],
      "source": [
        "propaganda_online = [\n",
        " {'tempo_gasto_site': 68.95, 'idade': 35, 'renda_area': 61833.90,\n",
        " 'tempo_gasto_internet': 256.09, 'cidade': 'Wrightburgh',\n",
        " 'pais': 'Tunisia', 'clicou_no_ad': 0\n",
        " },\n",
        " {'tempo_gasto_site': 80.23, 'idade': 31, 'renda_area': 68441.85,\n",
        " 'tempo_gasto_internet': 193.77, 'cidade': 'West Jodi',\n",
        " 'pais': 'Nauru', 'clicou_no_ad': 0\n",
        " },\n",
        " {'tempo_gasto_site': 69.47, 'idade': 26, 'renda_area': 59785.94,\n",
        " 'tempo_gasto_internet': 236.50, 'cidade': 'Davidton',\n",
        " 'pais': 'San Marino', 'clicou_no_ad': 0\n",
        " },\n",
        " {'tempo_gasto_site': 68.37, 'idade': 35, 'renda_area': 73889.99,\n",
        " 'tempo_gasto_internet': 225.58, 'cidade': 'South Manuel',\n",
        " 'pais': 'Iceland', 'clicou_no_ad': 0\n",
        " },\n",
        " {'tempo_gasto_site': 88.91, 'idade': 33, 'renda_area': 53852.85,\n",
        "  'tempo_gasto_internet': 208.36, 'cidade': 'Brandonstad',\n",
        " 'pais': 'Myanmar', 'clicou_no_ad': 0\n",
        " },\n",
        " {'tempo_gasto_site': None, 'idade': 48, 'renda_area': 24593.33,\n",
        " 'tempo_gasto_internet': 131.76, 'cidade': 'Port Jefferybury',\n",
        " 'pais': 'Australia', 'clicou_no_ad': 1\n",
        " },\n",
        " {'tempo_gasto_site': 74.53, 'idade': 30, 'renda_area': 68862.00,\n",
        " 'tempo_gasto_internet': 221.51, 'cidade': 'West Colin',\n",
        " 'pais': 'Grenada'},\n",
        " {'tempo_gasto_site': 69.88, 'idade': 20, 'renda_area': 55642.32,\n",
        " 'tempo_gasto_internet': 183.82, 'cidade': 'Ramirezton',\n",
        " 'pais': 'Ghana', 'clicou_no_ad': 0\n",
        " }\n",
        "]"
      ]
    },
    {
      "cell_type": "markdown",
      "source": [
        "Para iterar pelos elementos da lista, use o código abaixo."
      ],
      "metadata": {
        "id": "0a54_gZlDfki"
      }
    },
    {
      "cell_type": "code",
      "source": [
        "for dado_de_usuario in propaganda_online:\n",
        " print(dado_de_usuario)\n",
        "\n"
      ],
      "metadata": {
        "id": "Dkx9NsuIDfP2"
      },
      "execution_count": null,
      "outputs": []
    },
    {
      "cell_type": "markdown",
      "source": [
        "Crie uma lista chamada paises com o pais dos usuários com mais de 30 anos."
      ],
      "metadata": {
        "id": "qbMmpdzEDr4F"
      }
    },
    {
      "cell_type": "code",
      "source": [
        "paises = {'tempo_gasto_site': 68.95, 'idade': 35, 'renda_area': 61833.9, 'tempo_gasto_internet': 256.09, 'cidade': 'Wrightburgh', 'pais': 'Tunisia', 'clicou_no_ad': 0}\n",
        "{'tempo_gasto_site': 80.23, 'idade': 31, 'renda_area': 68441.85, 'tempo_gasto_internet': 193.77, 'cidade': 'West Jodi', 'pais': 'Nauru', 'clicou_no_ad': 0}\n",
        "{'tempo_gasto_site': 69.47, 'idade': 26, 'renda_area': 59785.94, 'tempo_gasto_internet': 236.5, 'cidade': 'Davidton', 'pais': 'San Marino', 'clicou_no_ad': 0}\n",
        "{'tempo_gasto_site': 68.37, 'idade': 35, 'renda_area': 73889.99, 'tempo_gasto_internet': 225.58, 'cidade': 'South Manuel', 'pais': 'Iceland', 'clicou_no_ad': 0}\n",
        "{'tempo_gasto_site': 88.91, 'idade': 33, 'renda_area': 53852.85, 'tempo_gasto_internet': 208.36, 'cidade': 'Brandonstad', 'pais': 'Myanmar', 'clicou_no_ad': 0}\n",
        "{'tempo_gasto_site': None, 'idade': 48, 'renda_area': 24593.33, 'tempo_gasto_internet': 131.76, 'cidade': 'Port Jefferybury', 'pais': 'Australia', 'clicou_no_ad': 1}\n",
        "{'tempo_gasto_site': 74.53, 'idade': 30, 'renda_area': 68862.0, 'tempo_gasto_internet': 221.51, 'cidade': 'West Colin', 'pais': 'Grenada', 'clicou_no_ad': 1}\n",
        "{'tempo_gasto_site': 69.88, 'idade': 20, 'renda_area': 55642.32, 'tempo_gasto_internet': 183.82, 'cidade': 'Ramirezton', 'pais': 'Ghana', 'clicou_no_ad': 0}\n",
        "\n",
        "paises_com_mais_de_30 = []\n",
        "\n",
        "# e aqui eu passo a sua lista \"propaganda_online\"\n",
        "for i in range(len(propaganda_online)):\n",
        "    dados = propaganda_online[i]\n",
        "    if(dados['idade'] > 30):\n",
        "        paises_com_mais_de_30.append(f\"{dados['pais']} - {dados['idade']}\")\n",
        "\n",
        "print(paises_com_mais_de_30)\n",
        "\n"
      ],
      "metadata": {
        "id": "CFlGIwcxDvSn"
      },
      "execution_count": null,
      "outputs": []
    },
    {
      "cell_type": "markdown",
      "source": [
        "Crie uma lista chamada leads com a renda dos usuários que clicaram na propaganda."
      ],
      "metadata": {
        "id": "nE2CrKb5FiFt"
      }
    },
    {
      "cell_type": "code",
      "source": [
        "for leads in propaganda_online:\n",
        "  try:\n",
        "   if leads ['clicou_no_ad'] > 0:\n",
        "  #  leads.append:()\n",
        "    print(leads['clicou_no_ad'])\n",
        "    print(leads)\n",
        "  except Exception:\n",
        "    print('Há usuários cuja informação de clique na propaganda não foi informada')"
      ],
      "metadata": {
        "id": "m0z7LHxYNS5M"
      },
      "execution_count": null,
      "outputs": []
    },
    {
      "cell_type": "code",
      "source": [
        "leads=[]\n",
        "for dado_de_usuario in propaganda_online:\n",
        "    for x, y in dado_de_usuario.items():\n",
        "        if x == 'clicou_no_ad' and y == 1:\n",
        "            for x, y in dado_de_usuario.items():\n",
        "                if x == 'renda_area':\n",
        "                    leads.append(y)\n",
        "print(leads)                    "
      ],
      "metadata": {
        "id": "gjwkFE0CFpWv"
      },
      "execution_count": null,
      "outputs": []
    },
    {
      "cell_type": "markdown",
      "source": [
        " Crie uma lista chamada cidades com a cidade dos usuários que passaram mais de 70\n",
        "segundos no site."
      ],
      "metadata": {
        "id": "8M1SHAorFos5"
      }
    },
    {
      "cell_type": "code",
      "source": [
        "paises=[]\n",
        "for dado_de_usuario in propaganda_online:\n",
        "    for x, y in dado_de_usuario.items():\n",
        "\n",
        "        if x == 'idade' and y > 30:\n",
        "            for x, y in dado_de_usuario.items():\n",
        "                if x == 'pais':\n",
        "                    paises.append(y)\n",
        "print(paises)"
      ],
      "metadata": {
        "id": "pGPwGrQWWM-u"
      },
      "execution_count": null,
      "outputs": []
    },
    {
      "cell_type": "code",
      "source": [
        "cidades=[]\n",
        "for dado_de_usuario in propaganda_online:\n",
        "    for x, y in dado_de_usuario.items():\n",
        "        if x == 'tempo_gasto_site' and  y != None:\n",
        "            if y > 70:\n",
        "                for x, y in dado_de_usuario.items():\n",
        "                    if x == 'cidade':\n",
        "                        cidades.append(y)\n",
        "print(cidades)                    "
      ],
      "metadata": {
        "id": "WXaTDpPNXMCr"
      },
      "execution_count": null,
      "outputs": []
    },
    {
      "cell_type": "code",
      "source": [
        "#{'tempo_gasto_site': 69.88, 'idade': 20, 'renda_area': 55642.32, \n",
        "#'tempo_gasto_internet': 183.82, 'cidade': 'Ramirezton', 'pais': 'Ghana', \n",
        "#'clicou_no_ad': 0}\n",
        "\n",
        "advs = []\n",
        "\n",
        "# e aqui eu passo a sua lista \"propaganda_online\"\n",
        "for i in range(len(propaganda_online)):\n",
        "    dadoss = propaganda_online[i]\n",
        "    if(dadoss['idade'] > 30):\n",
        "        advs.append(f\"{dadoss['renda_area']} - {dadoss['clicou_no_ad']}\")\n",
        "\n",
        "print(advs)"
      ],
      "metadata": {
        "id": "4aQluw8oQVex"
      },
      "execution_count": null,
      "outputs": []
    }
  ]
}