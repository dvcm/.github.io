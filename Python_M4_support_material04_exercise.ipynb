{
  "nbformat": 4,
  "nbformat_minor": 0,
  "metadata": {
    "colab": {
      "name": "Python_M4_support material04_exercise.ipynb",
      "provenance": [],
      "collapsed_sections": [],
      "include_colab_link": true
    },
    "kernelspec": {
      "name": "python3",
      "display_name": "Python 3"
    }
  },
  "cells": [
    {
      "cell_type": "markdown",
      "metadata": {
        "id": "view-in-github",
        "colab_type": "text"
      },
      "source": [
        "<a href=\"https://colab.research.google.com/github/dvcm/.github.io/blob/main/Python_M4_support_material04_exercise.ipynb\" target=\"_parent\"><img src=\"https://colab.research.google.com/assets/colab-badge.svg\" alt=\"Open In Colab\"/></a>"
      ]
    },
    {
      "cell_type": "markdown",
      "metadata": {
        "id": "KJqp9AANOCtf"
      },
      "source": [
        "<img src=\"https://raw.githubusercontent.com/andre-marcos-perez/ebac-course-utils/main/media/logo/newebac_logo_black_half.png\" alt=\"ebac-logo\">\n",
        "\n",
        "---\n",
        "\n",
        "# **Módulo** | Python: Arquivos & Funções\n",
        "Caderno de **Exercícios**<br> \n",
        "Professor [André Perez](https://www.linkedin.com/in/andremarcosperez/)\n",
        "\n",
        "---"
      ]
    },
    {
      "cell_type": "markdown",
      "metadata": {
        "id": "d9jDtUbDOE1-"
      },
      "source": [
        "# **Tópicos**\n",
        "\n",
        "<ol type=\"1\">\n",
        "  <li>Leitura;</li>\n",
        "  <li>Escrita;</li>\n",
        "  <li>Funções;</li>\n",
        "  <li>Escopo.</li>\n",
        "</ol>"
      ]
    },
    {
      "cell_type": "markdown",
      "metadata": {
        "id": "SmoHgt-lwkpD"
      },
      "source": [
        "---"
      ]
    },
    {
      "cell_type": "markdown",
      "metadata": {
        "id": "GABI6OW8OfQ2"
      },
      "source": [
        "# **Exercícios**"
      ]
    },
    {
      "cell_type": "markdown",
      "metadata": {
        "id": "muD1vxozykSC"
      },
      "source": [
        "## 0\\. Preparação do ambiente"
      ]
    },
    {
      "cell_type": "markdown",
      "metadata": {
        "id": "ahrFfCuBxJKs"
      },
      "source": [
        "Neste exercício vamos trabalhar com os arquivos de csv e texto definidos abaixo. Execute cada uma das células de código para escrever os arquivos na sua máquina virtual."
      ]
    },
    {
      "cell_type": "markdown",
      "metadata": {
        "id": "u0uFuhRSq_hQ"
      },
      "source": [
        "* **carros.csv**: arquivo csv com informações sobre carros (venda, manutenção, portas, etc.)."
      ]
    },
    {
      "cell_type": "code",
      "source": [
        "coluna = []\n",
        "\n",
        "with open(file='./carros.csv', mode='r', encoding='utf8') as arquivo:\n",
        "    linha = arquivo.readline() # le a primeira linha\n",
        "    while linha:\n",
        "      coluna.append(linha)\n",
        "      linha = arquivo.readline()\n",
        "print(coluna)  \n",
        "\n",
        "for linha in coluna:\n",
        "  print(linha)\n",
        "\n",
        "  # leia o arquivo com o comando 'with' utilizando o parametro 'nome_arquivo'\n",
        "  # extraia a coluna do arquivo utilizando o parametro 'indice_coluna'\n",
        "  # use a estrutura de decisão if/elif/else para fazer a conversão do tipo de dados utilizando o parametro 'tipo_dado'\n"
      ],
      "metadata": {
        "colab": {
          "base_uri": "https://localhost:8080/"
        },
        "id": "0YTeJ_VjMv4h",
        "outputId": "e0652013-1238-4da4-884a-6d91e78d7aca"
      },
      "execution_count": null,
      "outputs": [
        {
          "output_type": "stream",
          "name": "stdout",
          "text": [
            "['id,valor_venda,valor_manutencao,portas,pessoas,porta_malas\\n', '1,vhigh,med,2,2,small\\n', '2,med,vhigh,2,2,small\\n', '3,low,vhigh,2,2,small\\n', '4,low,high,2,2,small\\n', '5,low,high,2,2,small\\n', '6,low,high,4,4,big\\n', '7,low,high,4,4,big\\n', '8,low,med,2,2,small\\n', '9,low,med,2,2,small\\n', '10,low,med,2,2,small\\n', '11,low,med,4,4,big\\n', '12,low,low,2,2,small\\n', '13,low,low,4,4,small\\n', '14,low,low,4,4,med']\n",
            "id,valor_venda,valor_manutencao,portas,pessoas,porta_malas\n",
            "\n",
            "1,vhigh,med,2,2,small\n",
            "\n",
            "2,med,vhigh,2,2,small\n",
            "\n",
            "3,low,vhigh,2,2,small\n",
            "\n",
            "4,low,high,2,2,small\n",
            "\n",
            "5,low,high,2,2,small\n",
            "\n",
            "6,low,high,4,4,big\n",
            "\n",
            "7,low,high,4,4,big\n",
            "\n",
            "8,low,med,2,2,small\n",
            "\n",
            "9,low,med,2,2,small\n",
            "\n",
            "10,low,med,2,2,small\n",
            "\n",
            "11,low,med,4,4,big\n",
            "\n",
            "12,low,low,2,2,small\n",
            "\n",
            "13,low,low,4,4,small\n",
            "\n",
            "14,low,low,4,4,med\n"
          ]
        }
      ]
    },
    {
      "cell_type": "markdown",
      "metadata": {
        "id": "X0Z2PhbCrTz1"
      },
      "source": [
        "* **musica.txt**: arquivo texto com a letra da música Roda Viva do Chico Buarque."
      ]
    },
    {
      "cell_type": "code",
      "metadata": {
        "id": "m7Ge2rggrU73",
        "colab": {
          "base_uri": "https://localhost:8080/"
        },
        "outputId": "073ee3fa-739a-4637-abc1-d1687f517435"
      },
      "source": [
        "%%writefile musica.txt\n",
        "Roda Viva\n",
        "Chico Buarque\n",
        "\n",
        "Tem dias que a gente se sente\n",
        "Como quem partiu ou morreu\n",
        "A gente estancou de repente\n",
        "Ou foi o mundo então que cresceu\n",
        "A gente quer ter voz ativa\n",
        "No nosso destino mandar\n",
        "Mas eis que chega a roda viva\n",
        "E carrega o destino pra lá\n",
        "\n",
        "Roda mundo, roda-gigante\n",
        "Roda moinho, roda pião\n",
        "\n",
        "O tempo rodou num instante\n",
        "Nas voltas do meu coração\n",
        "A gente vai contra a corrente\n",
        "Até não poder resistir\n",
        "Na volta do barco é que sente\n",
        "O quanto deixou de cumprir\n",
        "Faz tempo que a gente cultiva\n",
        "A mais linda roseira que há\n",
        "Mas eis que chega a roda viva\n",
        "E carrega a roseira pra lá\n",
        "\n",
        "Roda mundo, roda-gigante\n",
        "Roda moinho, roda pião"
      ],
      "execution_count": 6,
      "outputs": [
        {
          "output_type": "stream",
          "name": "stdout",
          "text": [
            "Writing musica.txt\n"
          ]
        }
      ]
    },
    {
      "cell_type": "markdown",
      "metadata": {
        "id": "zMN1Q3jdwoJm"
      },
      "source": [
        "---"
      ]
    },
    {
      "cell_type": "markdown",
      "metadata": {
        "id": "U4S19ZvHsPcE"
      },
      "source": [
        "## 1\\. Funções para arquivo csv"
      ]
    },
    {
      "cell_type": "markdown",
      "metadata": {
        "id": "Mcf3mkOrtHzK"
      },
      "source": [
        "Complete a função abaixo para extrair uma coluna do arquivo csv em uma lista. Os elementos devem ter o tipo de dado correto."
      ]
    },
    {
      "cell_type": "code",
      "metadata": {
        "id": "W-1PAg7Ctt7i"
      },
      "source": [
        "def extrai_coluna_csv(nome_arquivo: str, indice_coluna: int, tipo_dado: str):\n",
        "\n",
        "  coluna = []\n",
        "\n",
        "  # leia o arquivo com o comando 'with' utilizando o parametro 'nome_arquivo'\n",
        "  # extraia a coluna do arquivo utilizando o parametro 'indice_coluna'\n",
        "  # use a estrutura de decisão if/elif/else para fazer a conversão do tipo de dados utilizando o parametro 'tipo_dado'\n",
        "\n",
        "  return coluna"
      ],
      "execution_count": null,
      "outputs": []
    },
    {
      "cell_type": "markdown",
      "metadata": {
        "id": "qCbQF6jru_01"
      },
      "source": [
        "Você pode testar a função com os códigos abaixo."
      ]
    },
    {
      "cell_type": "code",
      "metadata": {
        "id": "Rl-EYdySu90s"
      },
      "source": [
        "# extrair a coluna valor_venda\n",
        "valor_venda = extrai_coluna_csv(nome_arquivo='./carros.csv', indice_coluna=1, tipo_dado='str')\n",
        "print(valor_venda) # deve retornar ['vhigh', 'med', 'low', ...]"
      ],
      "execution_count": null,
      "outputs": []
    },
    {
      "cell_type": "code",
      "metadata": {
        "id": "daMf-xaXqKs2",
        "colab": {
          "base_uri": "https://localhost:8080/"
        },
        "outputId": "d2fa9de1-0baa-40d7-a26e-223978b1b91a"
      },
      "source": [
        "%%writefile carros.csv\n",
        "id,valor_venda,valor_manutencao,portas,pessoas,porta_malas\n",
        "1,vhigh,med,2,2,small\n",
        "2,med,vhigh,2,2,small\n",
        "3,low,vhigh,2,2,small\n",
        "4,low,high,2,2,small\n",
        "5,low,high,2,2,small\n",
        "6,low,high,4,4,big\n",
        "7,low,high,4,4,big\n",
        "8,low,med,2,2,small\n",
        "9,low,med,2,2,small\n",
        "10,low,med,2,2,small\n",
        "11,low,med,4,4,big\n",
        "12,low,low,2,2,small\n",
        "13,low,low,4,4,small\n",
        "14,low,low,4,4,med"
      ],
      "execution_count": 3,
      "outputs": [
        {
          "output_type": "stream",
          "name": "stdout",
          "text": [
            "Overwriting carros.csv\n"
          ]
        }
      ]
    },
    {
      "cell_type": "code",
      "source": [
        "ids = []\n",
        "\n",
        "with open(file='./carros.csv', mode='r', encoding='utf8') as arquivos:\n",
        "  linha = arquivos.readline() #le cabeçalho\n",
        "  linha = arquivos.readline() # le a primeira linha\n",
        "  while linha:\n",
        "    linhas_separada = linha.split(sep=',') # quebra a string nas virgulas e salva o resultado em uma lista\n",
        "    id = linhas_separada[0] # seleciona o 1 elemento da lista\n",
        "    id = int(id) # converte o valor de string para integer (inteiro)\n",
        "    ids.append(id) # salva o valor na lista de idades\n",
        "    linha = arquivos.readline() # le uma nova linha, se a linha nao existir, salva o valor none\n",
        "\n",
        "    print(id)\n",
        "    "
      ],
      "metadata": {
        "id": "bbqEP-9IOyd5",
        "colab": {
          "base_uri": "https://localhost:8080/"
        },
        "outputId": "917c5b48-9865-4d91-b3cb-f30b050dcb40"
      },
      "execution_count": 10,
      "outputs": [
        {
          "output_type": "stream",
          "name": "stdout",
          "text": [
            "1\n",
            "2\n",
            "3\n",
            "4\n",
            "5\n",
            "6\n",
            "7\n",
            "8\n",
            "9\n",
            "10\n",
            "11\n",
            "12\n",
            "13\n",
            "14\n"
          ]
        }
      ]
    },
    {
      "cell_type": "code",
      "metadata": {
        "id": "hvD-zzwDwboD"
      },
      "source": [
        "# extrair a coluna pessoas\n",
        "pessoas = extrai_coluna_csv(nome_arquivo='./carros.csv', indice_coluna=4, tipo_dado='int')\n",
        "print(pessoas) # deve retornar [2, 2, 2, ...]"
      ],
      "execution_count": null,
      "outputs": []
    },
    {
      "cell_type": "code",
      "source": [
        "ids = []\n",
        "\n",
        "with open(file='./carros.csv', mode='r', encoding='utf8') as arquivo:\n",
        "  linha = arquivo.readline() # lê a primeira linha\n",
        "  while linha:\n",
        "    ids.append(linha)\n",
        "    linha = arquivo.readline() # lê uma nova linha, se a linha não existir, salva o valor None\n",
        "\n",
        "print(ids)\n",
        "for linha in ids:\n",
        "  print(linha)"
      ],
      "metadata": {
        "colab": {
          "base_uri": "https://localhost:8080/"
        },
        "id": "ak6ueCzDFLyU",
        "outputId": "0ee9b200-c561-4331-ffd0-40793f37f90c"
      },
      "execution_count": 11,
      "outputs": [
        {
          "output_type": "stream",
          "name": "stdout",
          "text": [
            "['id,valor_venda,valor_manutencao,portas,pessoas,porta_malas\\n', '1,vhigh,med,2,2,small\\n', '2,med,vhigh,2,2,small\\n', '3,low,vhigh,2,2,small\\n', '4,low,high,2,2,small\\n', '5,low,high,2,2,small\\n', '6,low,high,4,4,big\\n', '7,low,high,4,4,big\\n', '8,low,med,2,2,small\\n', '9,low,med,2,2,small\\n', '10,low,med,2,2,small\\n', '11,low,med,4,4,big\\n', '12,low,low,2,2,small\\n', '13,low,low,4,4,small\\n', '14,low,low,4,4,med']\n",
            "id,valor_venda,valor_manutencao,portas,pessoas,porta_malas\n",
            "\n",
            "1,vhigh,med,2,2,small\n",
            "\n",
            "2,med,vhigh,2,2,small\n",
            "\n",
            "3,low,vhigh,2,2,small\n",
            "\n",
            "4,low,high,2,2,small\n",
            "\n",
            "5,low,high,2,2,small\n",
            "\n",
            "6,low,high,4,4,big\n",
            "\n",
            "7,low,high,4,4,big\n",
            "\n",
            "8,low,med,2,2,small\n",
            "\n",
            "9,low,med,2,2,small\n",
            "\n",
            "10,low,med,2,2,small\n",
            "\n",
            "11,low,med,4,4,big\n",
            "\n",
            "12,low,low,2,2,small\n",
            "\n",
            "13,low,low,4,4,small\n",
            "\n",
            "14,low,low,4,4,med\n"
          ]
        }
      ]
    },
    {
      "cell_type": "markdown",
      "source": [
        "# extrair a coluna pessoas\n",
        "pessoas = extrai_coluna_csv(nome_arquivo='./carros.csv', indice_coluna=4, tipo_dado='int')\n",
        "print(pessoas) # deve retornar [2, 2, 2, ...]"
      ],
      "metadata": {
        "id": "TNQP2KHNF711"
      }
    },
    {
      "cell_type": "code",
      "source": [
        "def le_linha(nome_arquivo, num_linha):\n",
        "    with open(file='./carros.csv', mode=\"r\", encoding=\"utf8\") as file:\n",
        "        for i, linha in enumerate(file, start=1):\n",
        "            if i == num_linha:\n",
        "                return linha.split()\n",
        "\n",
        "    # caso não ache a linha, retorna lista vazia\n",
        "    return []\n",
        "\n",
        "\n",
        "print(le_linha(\"carros.csv\", 5))"
      ],
      "metadata": {
        "colab": {
          "base_uri": "https://localhost:8080/"
        },
        "id": "gEOgMaERF7W_",
        "outputId": "22d60a2f-afb1-4cc0-e62f-0322199db497"
      },
      "execution_count": 16,
      "outputs": [
        {
          "output_type": "stream",
          "name": "stdout",
          "text": [
            "['4,low,high,2,2,small']\n"
          ]
        }
      ]
    },
    {
      "cell_type": "code",
      "source": [
        "def extrai_coluna_csv(nome_arquivo: str, indice_coluna: int, tipo_dado):\n",
        "    print(isinstance(tipo_dado, int))\n",
        "    coluna = []\n",
        "\n",
        "    ## leia o arquivo com o comando 'with' utilizando o parametro 'nome_arquivo'\n",
        "    with open(file=nome_arquivo, mode='r', encoding='utf8') as fp:\n",
        "        linha=linha = fp.readline()\n",
        "        while len(linha):\n",
        "            ## extraia a coluna do arquivo utilizando o parametro 'indice_coluna'\n",
        "            linha = fp.readline()\n",
        "            #print(linha)\n",
        "            linha_separada = linha.split(sep=',')\n",
        "            #print(linha_separada)\n",
        "            if indice_coluna >= len(linha_separada):\n",
        "                break\n",
        "            \n",
        "            linha = linha_separada[indice_coluna]\n",
        "            coluna.append(linha)\n",
        "            ## use a estrutura de decisão if/elif/else para fazer a conversão do tipo de dados utilizando o parametro 'tipo_dado'\n",
        "            if isinstance(tipo_dado, str):\n",
        "                coluna.append(linha)\n",
        "            elif isinstance(tipo_dado, int):\n",
        "                coluna.append(linha)\n",
        "            else:\n",
        "                print('Error')\n",
        "\n",
        "    return coluna\n",
        "\n",
        "\n",
        "## extrair a coluna valor_venda\n",
        "## passei um valor do tipo string no tipo_dado\n",
        "valor_venda = extrai_coluna_csv(nome_arquivo='./carros.csv', indice_coluna=4, tipo_dado=\"\")\n",
        "print(valor_venda)  # deve retornar ['vhigh', 'med', 'low', ...]\n",
        "\n",
        "## extrair a coluna portas\n",
        "## passei um valor de tipo numérico no tipo dado\n",
        "valor_venda = extrai_coluna_csv(nome_arquivo='./carros.csv', indice_coluna=5, tipo_dado=1)\n",
        "print(valor_venda) "
      ],
      "metadata": {
        "colab": {
          "base_uri": "https://localhost:8080/"
        },
        "id": "CKiojwGhH9yh",
        "outputId": "0a213f87-5a5f-4755-fac3-0bcdd7040ed7"
      },
      "execution_count": 25,
      "outputs": [
        {
          "output_type": "stream",
          "name": "stdout",
          "text": [
            "False\n",
            "['2', '2', '2', '2', '2', '2', '2', '2', '2', '2', '4', '4', '4', '4', '2', '2', '2', '2', '2', '2', '4', '4', '2', '2', '4', '4', '4', '4']\n",
            "True\n",
            "['small\\n', 'small\\n', 'small\\n', 'small\\n', 'small\\n', 'small\\n', 'small\\n', 'small\\n', 'small\\n', 'small\\n', 'big\\n', 'big\\n', 'big\\n', 'big\\n', 'small\\n', 'small\\n', 'small\\n', 'small\\n', 'small\\n', 'small\\n', 'big\\n', 'big\\n', 'small\\n', 'small\\n', 'small\\n', 'small\\n', 'med', 'med']\n"
          ]
        }
      ]
    },
    {
      "cell_type": "markdown",
      "metadata": {
        "id": "QTS5-sSbs4ie"
      },
      "source": [
        "---"
      ]
    },
    {
      "cell_type": "markdown",
      "metadata": {
        "id": "sebqs6uztCH4"
      },
      "source": [
        "## 2\\. Funções para arquivo txt"
      ]
    },
    {
      "cell_type": "markdown",
      "metadata": {
        "id": "IFVBGkNhzB3P"
      },
      "source": [
        "Complete a função abaixo para extrair uma as palavras de uma linha do arquivo txt em uma lista."
      ]
    },
    {
      "cell_type": "code",
      "metadata": {
        "id": "ewrNqMtczWZJ"
      },
      "source": [
        "def extrai_linha_txt(nome_arquivo: str, numero_linha: int):\n",
        "\n",
        "  palavras_linha = []\n",
        "\n",
        "  # leia o arquivo com o comando 'with' utilizando o parametro 'nome_arquivo'\n",
        "  # extraia a linha do arquivo utilizando o parametro 'numero_linha'\n",
        "  # quebre a linha em palavras com o comando split, note que o separador é um espaço ' '\n",
        "\n",
        "  return palavras_linha"
      ],
      "execution_count": null,
      "outputs": []
    },
    {
      "cell_type": "markdown",
      "metadata": {
        "id": "Qz2UwipIz0t2"
      },
      "source": [
        "Você pode testar a função com os códigos abaixo."
      ]
    },
    {
      "cell_type": "code",
      "metadata": {
        "id": "_Wxp43qqz1V2"
      },
      "source": [
        "linha10 = extrai_linha_txt(nome_arquivo='./musica.txt', numero_linha=10)\n",
        "print(linha10) # deve retornar ['Mas', 'eis', 'que', 'chega', 'a', 'roda', 'viva']"
      ],
      "execution_count": null,
      "outputs": []
    },
    {
      "cell_type": "markdown",
      "metadata": {
        "id": "Fo9qTjietCH6"
      },
      "source": [
        "---"
      ]
    },
    {
      "cell_type": "code",
      "source": [
        "def le_linha(nome_arquivo, num_linha):\n",
        "    with open(nome_arquivo, mode=\"r\", encoding=\"utf8\") as file:\n",
        "        for i, linha in enumerate(file, start=1):\n",
        "            if i == num_linha:\n",
        "                return linha.split()\n",
        "\n",
        "    # caso não ache a linha, retorna lista vazia\n",
        "    return []\n",
        "\n",
        "\n",
        "print(le_linha(\"musica.txt\", 10))\n",
        "# ['Mas', 'eis', 'que', 'chega', 'a', 'roda', 'viva']\n"
      ],
      "metadata": {
        "colab": {
          "base_uri": "https://localhost:8080/"
        },
        "id": "wMknxUcDNPUO",
        "outputId": "9d111fc7-e4e6-4f7b-ac2a-df7a29b16034"
      },
      "execution_count": 7,
      "outputs": [
        {
          "output_type": "stream",
          "name": "stdout",
          "text": [
            "['Mas', 'eis', 'que', 'chega', 'a', 'roda', 'viva']\n"
          ]
        }
      ]
    }
  ]
}