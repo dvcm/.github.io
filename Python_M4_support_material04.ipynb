{
  "nbformat": 4,
  "nbformat_minor": 0,
  "metadata": {
    "colab": {
      "name": "Python_M4_support material04.ipynb",
      "provenance": [],
      "collapsed_sections": [],
      "include_colab_link": true
    },
    "kernelspec": {
      "name": "python3",
      "display_name": "Python 3"
    }
  },
  "cells": [
    {
      "cell_type": "markdown",
      "metadata": {
        "id": "view-in-github",
        "colab_type": "text"
      },
      "source": [
        "<a href=\"https://colab.research.google.com/github/dvcm/.github.io/blob/main/Python_M4_support_material04.ipynb\" target=\"_parent\"><img src=\"https://colab.research.google.com/assets/colab-badge.svg\" alt=\"Open In Colab\"/></a>"
      ]
    },
    {
      "cell_type": "markdown",
      "metadata": {
        "id": "KJqp9AANOCtf"
      },
      "source": [
        "<img src=\"https://raw.githubusercontent.com/andre-marcos-perez/ebac-course-utils/main/media/logo/newebac_logo_black_half.png\" alt=\"ebac-logo\">\n",
        "\n",
        "---\n",
        "\n",
        "# **Módulo** | Python: Arquivos & Funções\n",
        "Caderno de **Aula**<br> \n",
        "Professor [André Perez](https://www.linkedin.com/in/andremarcosperez/)\n",
        "\n",
        "---"
      ]
    },
    {
      "cell_type": "markdown",
      "metadata": {
        "id": "d9jDtUbDOE1-"
      },
      "source": [
        "# **Tópicos**\n",
        "\n",
        "<ol type=\"1\">\n",
        "  <li>Leitura;</li>\n",
        "  <li>Escrita;</li>\n",
        "  <li>Funções;</li>\n",
        "  <li>Escopo.</li>\n",
        "</ol>"
      ]
    },
    {
      "cell_type": "markdown",
      "metadata": {
        "id": "SmoHgt-lwkpD"
      },
      "source": [
        "---"
      ]
    },
    {
      "cell_type": "markdown",
      "metadata": {
        "id": "GABI6OW8OfQ2"
      },
      "source": [
        "# **Aulas**"
      ]
    },
    {
      "cell_type": "markdown",
      "metadata": {
        "id": "muD1vxozykSC"
      },
      "source": [
        "## 1\\. Leitura"
      ]
    },
    {
      "cell_type": "markdown",
      "metadata": {
        "id": "5a3_syBIP6yO"
      },
      "source": [
        "### **1.1. Configuração inicial** "
      ]
    },
    {
      "cell_type": "markdown",
      "metadata": {
        "id": "YZixnYDiUvJy"
      },
      "source": [
        "Vamos utilizar uma função do **Google Colab** para criar arquivos para esse módulo. **Nota**: esse código **não** é do Python e sim da ferramenta."
      ]
    },
    {
      "cell_type": "markdown",
      "metadata": {
        "id": "7yJy2iraWZbC"
      },
      "source": [
        "**Arquivo CSV:** banco.csv"
      ]
    },
    {
      "cell_type": "code",
      "metadata": {
        "id": "vr4DaExbiyCr",
        "colab": {
          "base_uri": "https://localhost:8080/"
        },
        "outputId": "0a9c993d-a194-4b05-c664-13784d6fceee"
      },
      "source": [
        "%%writefile banco.csv\n",
        "age,job,marital,education,default,balance,housing,loan\n",
        "30,unemployed,married,primary,no,1787,no,no\n",
        "33,services,married,secondary,no,4789,yes,yes\n",
        "35,management,single,tertiary,no,1350,yes,no\n",
        "30,management,married,tertiary,no,1476,yes,yes\n",
        "59,blue-collar,married,secondary,no,0,yes,no\n",
        "35,management,single,tertiary,no,747,no,no\n",
        "36,self-employed,married,tertiary,no,307,yes,no\n",
        "39,technician,married,secondary,no,147,yes,no\n",
        "41,entrepreneur,married,tertiary,no,221,yes,no\n",
        "43,services,married,primary,no,-88,yes,yes"
      ],
      "execution_count": 1,
      "outputs": [
        {
          "output_type": "stream",
          "name": "stdout",
          "text": [
            "Writing banco.csv\n"
          ]
        }
      ]
    },
    {
      "cell_type": "markdown",
      "metadata": {
        "id": "E6D5rjlESJ1A"
      },
      "source": [
        "### **1.2. with / open** "
      ]
    },
    {
      "cell_type": "markdown",
      "metadata": {
        "id": "2SX6T5EXkMRP"
      },
      "source": [
        "Comando para ler arquivos.\n",
        "\n",
        "```python\n",
        "with open(file='<caminho do arquivo>', mode='<modo de leitura>', encoding='<decodificador>') as <apelido>:\n",
        "  bloco de código\n",
        "```"
      ]
    },
    {
      "cell_type": "markdown",
      "metadata": {
        "id": "PugpetF_kWOP"
      },
      "source": [
        "Os modos de leitura são:\n",
        "\n",
        "*   **r**: Abrir o arquivo para leitura (padrão).\n",
        "\n"
      ]
    },
    {
      "cell_type": "markdown",
      "metadata": {
        "id": "wNkFG1qKSU9M"
      },
      "source": [
        "### **1.3. read** "
      ]
    },
    {
      "cell_type": "markdown",
      "metadata": {
        "id": "wzKYdbTUmCkr"
      },
      "source": [
        "Comando para ler todo o conteúdo de um arquivo."
      ]
    },
    {
      "cell_type": "code",
      "metadata": {
        "id": "WpJWcVcEjz4s",
        "colab": {
          "base_uri": "https://localhost:8080/"
        },
        "outputId": "bdce00c0-abf0-46e5-872d-1774eec69a74"
      },
      "source": [
        "conteudo = None\n",
        "\n",
        "with open(file='./banco.csv', mode='r', encoding='utf8') as arquivo:\n",
        "  conteudo = arquivo.read()\n",
        "\n",
        "print(conteudo)"
      ],
      "execution_count": 2,
      "outputs": [
        {
          "output_type": "stream",
          "name": "stdout",
          "text": [
            "age,job,marital,education,default,balance,housing,loan\n",
            "30,unemployed,married,primary,no,1787,no,no\n",
            "33,services,married,secondary,no,4789,yes,yes\n",
            "35,management,single,tertiary,no,1350,yes,no\n",
            "30,management,married,tertiary,no,1476,yes,yes\n",
            "59,blue-collar,married,secondary,no,0,yes,no\n",
            "35,management,single,tertiary,no,747,no,no\n",
            "36,self-employed,married,tertiary,no,307,yes,no\n",
            "39,technician,married,secondary,no,147,yes,no\n",
            "41,entrepreneur,married,tertiary,no,221,yes,no\n",
            "43,services,married,primary,no,-88,yes,yes\n"
          ]
        }
      ]
    },
    {
      "cell_type": "markdown",
      "metadata": {
        "id": "hV8sOC7uSQsy"
      },
      "source": [
        "### **1.4. readline** "
      ]
    },
    {
      "cell_type": "markdown",
      "metadata": {
        "id": "t4crMe1PnaxO"
      },
      "source": [
        "Comando para ler o conteúdo de um arquivo uma linha por vez."
      ]
    },
    {
      "cell_type": "code",
      "metadata": {
        "id": "KJEJA17YnUC6",
        "colab": {
          "base_uri": "https://localhost:8080/"
        },
        "outputId": "156f3c23-1d56-4fb4-a346-08481385dbb2"
      },
      "source": [
        "conteudo = []\n",
        "\n",
        "with open(file='./banco.csv', mode='r', encoding='utf8') as arquivo:\n",
        "  linha = arquivo.readline() # lê a primeira linha\n",
        "  while linha:\n",
        "    conteudo.append(linha)\n",
        "    linha = arquivo.readline() # lê uma nova linha, se a linha não existir, salva o valor None\n",
        "\n",
        "print(conteudo)"
      ],
      "execution_count": 3,
      "outputs": [
        {
          "output_type": "stream",
          "name": "stdout",
          "text": [
            "['age,job,marital,education,default,balance,housing,loan\\n', '30,unemployed,married,primary,no,1787,no,no\\n', '33,services,married,secondary,no,4789,yes,yes\\n', '35,management,single,tertiary,no,1350,yes,no\\n', '30,management,married,tertiary,no,1476,yes,yes\\n', '59,blue-collar,married,secondary,no,0,yes,no\\n', '35,management,single,tertiary,no,747,no,no\\n', '36,self-employed,married,tertiary,no,307,yes,no\\n', '39,technician,married,secondary,no,147,yes,no\\n', '41,entrepreneur,married,tertiary,no,221,yes,no\\n', '43,services,married,primary,no,-88,yes,yes']\n"
          ]
        }
      ]
    },
    {
      "cell_type": "code",
      "metadata": {
        "id": "qB3FMTB_nwZx",
        "colab": {
          "base_uri": "https://localhost:8080/"
        },
        "outputId": "74020076-40da-401e-9255-93a8edb672a1"
      },
      "source": [
        "for linha in conteudo:\n",
        "  print(linha)"
      ],
      "execution_count": 4,
      "outputs": [
        {
          "output_type": "stream",
          "name": "stdout",
          "text": [
            "age,job,marital,education,default,balance,housing,loan\n",
            "\n",
            "30,unemployed,married,primary,no,1787,no,no\n",
            "\n",
            "33,services,married,secondary,no,4789,yes,yes\n",
            "\n",
            "35,management,single,tertiary,no,1350,yes,no\n",
            "\n",
            "30,management,married,tertiary,no,1476,yes,yes\n",
            "\n",
            "59,blue-collar,married,secondary,no,0,yes,no\n",
            "\n",
            "35,management,single,tertiary,no,747,no,no\n",
            "\n",
            "36,self-employed,married,tertiary,no,307,yes,no\n",
            "\n",
            "39,technician,married,secondary,no,147,yes,no\n",
            "\n",
            "41,entrepreneur,married,tertiary,no,221,yes,no\n",
            "\n",
            "43,services,married,primary,no,-88,yes,yes\n"
          ]
        }
      ]
    },
    {
      "cell_type": "markdown",
      "metadata": {
        "id": "3fUEwRtVnx-7"
      },
      "source": [
        "**Exemplo**: Extraindo os valores da primeira coluna (idade)."
      ]
    },
    {
      "cell_type": "code",
      "metadata": {
        "id": "SpHHPRUOn8pZ",
        "colab": {
          "base_uri": "https://localhost:8080/"
        },
        "outputId": "934b27f6-4ab6-4b2b-fdfd-07d9b13eb48f"
      },
      "source": [
        "idades = []\n",
        "\n",
        "with open(file='./banco.csv', mode='r', encoding='utf8') as arquivo:\n",
        "  linha = arquivo.readline() # lê o cabeçalho\n",
        "  linha = arquivo.readline() # lê a primeira linha\n",
        "  while linha:\n",
        "    linha_separada = linha.split(sep=',') # quebra a string nas virgulas e salva os resultados em uma lista\n",
        "    idade = linha_separada[0] # seleciona o primeiro elemento da lista\n",
        "    idade = int(idade) # converte o valor de string para integer (inteiro)\n",
        "    idades.append(idade) # salva o valor na lista de idades\n",
        "    linha = arquivo.readline() # lê uma nova linha, se a linha não existir, salva o valor None\n",
        "\n",
        "print(idades)"
      ],
      "execution_count": 5,
      "outputs": [
        {
          "output_type": "stream",
          "name": "stdout",
          "text": [
            "[30, 33, 35, 30, 59, 35, 36, 39, 41, 43]\n"
          ]
        }
      ]
    },
    {
      "cell_type": "markdown",
      "metadata": {
        "id": "4rRCvy_UURrM"
      },
      "source": [
        "## 2\\. Escrita"
      ]
    },
    {
      "cell_type": "markdown",
      "metadata": {
        "id": "3FTT-S0apCyF"
      },
      "source": [
        "### **2.1. with / open** "
      ]
    },
    {
      "cell_type": "markdown",
      "metadata": {
        "id": "qJ4xZ0DgpCyd"
      },
      "source": [
        "Comando para ler/escrever arquivos.\n",
        "\n",
        "```python\n",
        "with open(file='<caminho do arquivo do arquivo>', mode='<modo de leitura/escrita>', encoding='<decodificador>') as <apelido>:\n",
        "  bloco de código\n",
        "```"
      ]
    },
    {
      "cell_type": "markdown",
      "metadata": {
        "id": "9qXlv5OCpCye"
      },
      "source": [
        "Os modos de leitura são:\n",
        "\n",
        "*   **r**: Abrir o arquivo para leitura (padrão);\n",
        "*   **w**: Abrir o arquivo para escrita (sobreescreve o arquivo original).\n",
        "*   **a**: Abrir o arquivo para acrescentar (não sobreescreve o arquivo original)\n",
        "\n"
      ]
    },
    {
      "cell_type": "markdown",
      "metadata": {
        "id": "Y1W9Hv8fURrZ"
      },
      "source": [
        "### **2.2. write** "
      ]
    },
    {
      "cell_type": "markdown",
      "metadata": {
        "id": "blLLUg9IrRed"
      },
      "source": [
        "Comando para escrever em um arquivo, se o arquivo não existir, ele será criado."
      ]
    },
    {
      "cell_type": "markdown",
      "metadata": {
        "id": "4RT69P1CrZAo"
      },
      "source": [
        "- Modo de escrita (w)."
      ]
    },
    {
      "cell_type": "code",
      "metadata": {
        "id": "aqPMQ27bpfGL"
      },
      "source": [
        "with open(file='idades.csv', mode='w', encoding='utf8') as fp:\n",
        "  linha = 'idade' + '\\n'\n",
        "  fp.write(linha)\n",
        "  for idade in idades:\n",
        "    linha = str(idade) + '\\n'\n",
        "    fp.write(linha)"
      ],
      "execution_count": 6,
      "outputs": []
    },
    {
      "cell_type": "markdown",
      "metadata": {
        "id": "YlDZzK4grar5"
      },
      "source": [
        " - Modo de acréscimo (a)."
      ]
    },
    {
      "cell_type": "code",
      "metadata": {
        "id": "s3fyBEszq6GL"
      },
      "source": [
        "with open(file='idades.csv', mode='a', encoding='utf8') as fp:\n",
        "  for idade in idades:\n",
        "    linha = str(idade + 100) + '\\n'\n",
        "    fp.write(linha)"
      ],
      "execution_count": 7,
      "outputs": []
    },
    {
      "cell_type": "markdown",
      "metadata": {
        "id": "BYzPVfCyrn7U"
      },
      "source": [
        "**Exemplo**: Copiando um arquivo com uma extensão diferente."
      ]
    },
    {
      "cell_type": "code",
      "metadata": {
        "id": "fJ5OMzbar22Q",
        "colab": {
          "base_uri": "https://localhost:8080/"
        },
        "outputId": "1ba8a286-90e3-40bd-9712-02f58a449b5f"
      },
      "source": [
        "%%writefile banco-texto.txt\n",
        "age,job,marital,education,default,balance,housing,loan\n",
        "30,unemployed,married,primary,no,1787,no,no\n",
        "33,services,married,secondary,no,4789,yes,yes\n",
        "35,management,single,tertiary,no,1350,yes,no\n",
        "30,management,married,tertiary,no,1476,yes,yes\n",
        "59,blue-collar,married,secondary,no,0,yes,no\n",
        "35,management,single,tertiary,no,747,no,no\n",
        "36,self-employed,married,tertiary,no,307,yes,no\n",
        "39,technician,married,secondary,no,147,yes,no\n",
        "41,entrepreneur,married,tertiary,no,221,yes,no\n",
        "43,services,married,primary,no,-88,yes,yes"
      ],
      "execution_count": 8,
      "outputs": [
        {
          "output_type": "stream",
          "name": "stdout",
          "text": [
            "Writing banco-texto.txt\n"
          ]
        }
      ]
    },
    {
      "cell_type": "code",
      "metadata": {
        "id": "mB-oJ_9FruGk"
      },
      "source": [
        "with open(file='./banco-texto.txt', mode='r', encoding='utf8') as leitura:\n",
        "  with open(file='./banco-csv.csv', mode='w', encoding='utf8') as escrita:\n",
        "    linha = leitura.readline()\n",
        "    while linha:\n",
        "      escrita.write(linha)\n",
        "      linha = leitura.readline()"
      ],
      "execution_count": 9,
      "outputs": []
    },
    {
      "cell_type": "markdown",
      "metadata": {
        "id": "ELgoMRAAUSjv"
      },
      "source": [
        "## 3\\. Funções"
      ]
    },
    {
      "cell_type": "markdown",
      "metadata": {
        "id": "CuLkQY76USjw"
      },
      "source": [
        "### **3.1. Motivação** "
      ]
    },
    {
      "cell_type": "markdown",
      "metadata": {
        "id": "Fg8Ib6XA3gK_"
      },
      "source": [
        "Você trabalha na bolsa de valores e precisa simular o retorno de um investimento para diversos cenários:"
      ]
    },
    {
      "cell_type": "code",
      "metadata": {
        "id": "ivOfQr2f3yj7",
        "colab": {
          "base_uri": "https://localhost:8080/"
        },
        "outputId": "5fe17c62-df4a-475a-cc9a-fa138d559550"
      },
      "source": [
        "valor_inicial, taxa_juros_anual, anos = 1000.00, 0.05, 10\n",
        "\n",
        "valor_final = valor_inicial\n",
        "for ano in range(1, anos+1):\n",
        "  valor_final = valor_final * (1 + taxa_juros_anual)\n",
        "valor_final = round(valor_final, 2)\n",
        "print(f'Para um valor inicial de R$ {valor_inicial} e uma taxa de juros anual de {taxa_juros_anual}, em {anos} anos você terá R$ {valor_final}') \n",
        "\n",
        "valor_inicial, taxa_juros_anual, anos = 1020.00, 0.03, 10\n",
        "\n",
        "valor_final = valor_inicial\n",
        "for ano in range(1, anos+1):\n",
        "  valor_final = valor_final * (1 + taxa_juros_anual)\n",
        "valor_final = round(valor_final, 2)\n",
        "print(f'Para um valor inicial de R$ {valor_inicial} e uma taxa de juros anual de {taxa_juros_anual}, em {anos} anos você terá R$ {valor_final}') "
      ],
      "execution_count": 10,
      "outputs": [
        {
          "output_type": "stream",
          "name": "stdout",
          "text": [
            "Para um valor inicial de R$ 1000.0 e uma taxa de juros anual de 0.05, em 10 anos você terá R$ 1628.89\n",
            "Para um valor inicial de R$ 1020.0 e uma taxa de juros anual de 0.03, em 10 anos você terá R$ 1370.79\n"
          ]
        }
      ]
    },
    {
      "cell_type": "markdown",
      "metadata": {
        "id": "VXDHNVnM4PYO"
      },
      "source": [
        "Como podemos fazer para reaproveitar o código e evitar repetições?"
      ]
    },
    {
      "cell_type": "markdown",
      "metadata": {
        "id": "JENLdmHkUSjx"
      },
      "source": [
        "### **3.2. Definição** "
      ]
    },
    {
      "cell_type": "markdown",
      "metadata": {
        "id": "niLcDcONyuQ9"
      },
      "source": [
        "Um bloco de código que só executado quando chamado."
      ]
    },
    {
      "cell_type": "markdown",
      "metadata": {
        "id": "Qci6vQqss-Hb"
      },
      "source": [
        "```python\n",
        "def <nome>(<param 1>, <param 2>, ...):\n",
        "  bloco de código\n",
        "  return <valor de retorno>\n",
        "```\n",
        "\n",
        "```python\n",
        "var = <nome da funcao>(<param 1>, <param 2>, ...)\n",
        "```"
      ]
    },
    {
      "cell_type": "code",
      "metadata": {
        "id": "HOGLdF3dv-8D"
      },
      "source": [
        "def imprime(mensagem: str):\n",
        "  print(mensagem)"
      ],
      "execution_count": 11,
      "outputs": []
    },
    {
      "cell_type": "code",
      "metadata": {
        "id": "TzaUvMeKwJ63"
      },
      "source": [
        "texto = 'Fala pessoal, meu nome é André Perez!'"
      ],
      "execution_count": 12,
      "outputs": []
    },
    {
      "cell_type": "code",
      "metadata": {
        "id": "5Csj9AY3wOMX",
        "colab": {
          "base_uri": "https://localhost:8080/"
        },
        "outputId": "e4ea5154-ef93-4d3e-f990-37ac55797e79"
      },
      "source": [
        "imprime(mensagem='Fala pessoal, meu nome é André Perez!')"
      ],
      "execution_count": 13,
      "outputs": [
        {
          "output_type": "stream",
          "name": "stdout",
          "text": [
            "Fala pessoal, meu nome é André Perez!\n"
          ]
        }
      ]
    },
    {
      "cell_type": "markdown",
      "metadata": {
        "id": "qcHSzY6kUSjy"
      },
      "source": [
        "### **3.3. Retorno** "
      ]
    },
    {
      "cell_type": "markdown",
      "metadata": {
        "id": "Vtp-kxhAz2A7"
      },
      "source": [
        "Toda função retorna pelo menos um valor, se não específicado, retorna o valor nulo."
      ]
    },
    {
      "cell_type": "code",
      "metadata": {
        "id": "yjZXbgGLz7LF"
      },
      "source": [
        "def maiusculo(texto: str) -> str:\n",
        "  text_maiusculo = texto.upper()\n",
        "  return text_maiusculo"
      ],
      "execution_count": 14,
      "outputs": []
    },
    {
      "cell_type": "code",
      "metadata": {
        "id": "sfAJqKF80KcU",
        "colab": {
          "base_uri": "https://localhost:8080/"
        },
        "outputId": "12c0ced3-f861-4240-b0d2-f0e87feaa26a"
      },
      "source": [
        "nome = 'André Perez'\n",
        "print(nome)\n",
        "\n",
        "nome_maiusculo = maiusculo(texto=nome)\n",
        "print(nome_maiusculo)"
      ],
      "execution_count": 15,
      "outputs": [
        {
          "output_type": "stream",
          "name": "stdout",
          "text": [
            "André Perez\n",
            "ANDRÉ PEREZ\n"
          ]
        }
      ]
    },
    {
      "cell_type": "code",
      "metadata": {
        "id": "6oGDzweQtaJ1"
      },
      "source": [
        "def extrair_usuario_email_provedor(email: str) -> (str, str):\n",
        "  email_separado = email.split(sep='@')\n",
        "  usuario = email_separado[0]\n",
        "  provedor = email_separado[1]\n",
        "  return usuario, provedor"
      ],
      "execution_count": 16,
      "outputs": []
    },
    {
      "cell_type": "code",
      "metadata": {
        "id": "nK9i6Eqttiwc",
        "colab": {
          "base_uri": "https://localhost:8080/"
        },
        "outputId": "ac81102e-ed31-4bd6-93e3-c37d138a9c5f"
      },
      "source": [
        "email = 'andre.perez@gmail.com'\n",
        "usuario, provedor = extrair_usuario_email_provedor(email=email)\n",
        "print(usuario)\n",
        "print(provedor)"
      ],
      "execution_count": 17,
      "outputs": [
        {
          "output_type": "stream",
          "name": "stdout",
          "text": [
            "andre.perez\n",
            "gmail.com\n"
          ]
        }
      ]
    },
    {
      "cell_type": "markdown",
      "metadata": {
        "id": "pBOPhB4ey4G6"
      },
      "source": [
        "### **3.3. Parâmetros** "
      ]
    },
    {
      "cell_type": "markdown",
      "metadata": {
        "id": "He3xbNvQD_lh"
      },
      "source": [
        "Parâmetros são os valores que a passamos na chamada da função."
      ]
    },
    {
      "cell_type": "markdown",
      "metadata": {
        "id": "ncVF5va-QXa3"
      },
      "source": [
        " - Função sem parâmetro:"
      ]
    },
    {
      "cell_type": "code",
      "metadata": {
        "id": "1QWOVjF5Qa7P"
      },
      "source": [
        "def pi() -> float:\n",
        "  return 3.14159265359"
      ],
      "execution_count": 18,
      "outputs": []
    },
    {
      "cell_type": "code",
      "metadata": {
        "id": "j4rf5u9vQtgW",
        "colab": {
          "base_uri": "https://localhost:8080/"
        },
        "outputId": "ff7b88c4-c423-482a-dbc6-af34224e3132"
      },
      "source": [
        "pi = pi()\n",
        "print(pi)"
      ],
      "execution_count": 19,
      "outputs": [
        {
          "output_type": "stream",
          "name": "stdout",
          "text": [
            "3.14159265359\n"
          ]
        }
      ]
    },
    {
      "cell_type": "code",
      "metadata": {
        "id": "E0HdlKYHQw55"
      },
      "source": [
        "def imprime_pi() -> None:\n",
        "  print(3.14159265359)\n",
        "  return None"
      ],
      "execution_count": 20,
      "outputs": []
    },
    {
      "cell_type": "code",
      "metadata": {
        "id": "jHgpZqHnQ4JW",
        "colab": {
          "base_uri": "https://localhost:8080/"
        },
        "outputId": "13a8e2f7-0fd1-49b3-fd46-0b3796e7cf6f"
      },
      "source": [
        "imprime_pi()"
      ],
      "execution_count": 21,
      "outputs": [
        {
          "output_type": "stream",
          "name": "stdout",
          "text": [
            "3.14159265359\n"
          ]
        }
      ]
    },
    {
      "cell_type": "markdown",
      "metadata": {
        "id": "b9zFMVn3QRac"
      },
      "source": [
        " - Função com parâmetro:"
      ]
    },
    {
      "cell_type": "code",
      "metadata": {
        "id": "U0fc5LA_EFTW"
      },
      "source": [
        "def escreve_arquivo_csv(nome: str, cabecalho: str, conteudos: list) -> bool:\n",
        "\n",
        "  try: \n",
        "\n",
        "    with open(file=nome, mode='w', encoding='utf8') as fp:\n",
        "      linha = cabecalho + '\\n'\n",
        "      fp.write(linha)\n",
        "      for conteudo in conteudos:\n",
        "        linha = str(conteudo) + '\\n'\n",
        "        fp.write(linha)\n",
        "\n",
        "  except Exception as exc:\n",
        "    \n",
        "    print(exc)\n",
        "    return False\n",
        "\n",
        "  return True"
      ],
      "execution_count": 23,
      "outputs": []
    },
    {
      "cell_type": "code",
      "metadata": {
        "id": "MRyFsh_nQFJh",
        "colab": {
          "base_uri": "https://localhost:8080/"
        },
        "outputId": "9f9ed796-4d85-4ca3-d7f5-e85d4120d42a"
      },
      "source": [
        "nome = 'idades-funcao-erro.csv'\n",
        "cabecalho = 'idade'\n",
        "# conteudos = [30, 33, 35, 30, 59, 35, 36, 39, 41, 43]\n",
        "conteudos = 10\n",
        "\n",
        "escreveu_com_sucesso = escreve_arquivo_csv(nome=nome, cabecalho=cabecalho, conteudos=conteudos)\n",
        "print(escreveu_com_sucesso)"
      ],
      "execution_count": 24,
      "outputs": [
        {
          "output_type": "stream",
          "name": "stdout",
          "text": [
            "'int' object is not iterable\n",
            "False\n"
          ]
        }
      ]
    },
    {
      "cell_type": "markdown",
      "metadata": {
        "id": "Nq0WCx8HUSjz"
      },
      "source": [
        "### **3.4. Revisitando a motivação** "
      ]
    },
    {
      "cell_type": "code",
      "metadata": {
        "id": "B9fVGad25GHm",
        "colab": {
          "base_uri": "https://localhost:8080/"
        },
        "outputId": "224044a1-b8de-4d15-b0d6-03ced6ccd6aa"
      },
      "source": [
        "def juros_compostos_anual(valor_inicial: float, taxa_juros_anual: float, anos: int) -> float:\n",
        "  valor_final = valor_inicial\n",
        "  for ano in range(1, anos+1):\n",
        "    valor_final = valor_final * (1 + taxa_juros_anual)\n",
        "  valor_final = round(valor_final, 2)\n",
        "  print(f'Para um valor inicial de R$ {valor_inicial} e uma taxa de juros anual de {taxa_juros_anual}, em {anos} anos você terá R$ {valor_final}') \n",
        "  return valor_final\n",
        "\n",
        "valor_inicial, taxa_juros_anual, anos = 1000.00, 0.05, 10\n",
        "valor_final = juros_compostos_anual(valor_inicial=valor_inicial, taxa_juros_anual=taxa_juros_anual, anos=anos)\n",
        "\n",
        "valor_inicial, taxa_juros_anual, anos = 1020.00, 0.03, 10\n",
        "valor_final = juros_compostos_anual(valor_inicial=valor_inicial, taxa_juros_anual=taxa_juros_anual, anos=anos) "
      ],
      "execution_count": 25,
      "outputs": [
        {
          "output_type": "stream",
          "name": "stdout",
          "text": [
            "Para um valor inicial de R$ 1000.0 e uma taxa de juros anual de 0.05, em 10 anos você terá R$ 1628.89\n",
            "Para um valor inicial de R$ 1020.0 e uma taxa de juros anual de 0.03, em 10 anos você terá R$ 1370.79\n"
          ]
        }
      ]
    },
    {
      "cell_type": "markdown",
      "metadata": {
        "id": "f20ThY5WXmns"
      },
      "source": [
        "## 4\\. Escopo"
      ]
    },
    {
      "cell_type": "markdown",
      "metadata": {
        "id": "mU0sJeoCXmoK"
      },
      "source": [
        "### **4.1. Definição** "
      ]
    },
    {
      "cell_type": "markdown",
      "metadata": {
        "id": "oKh6lMEouTn0"
      },
      "source": [
        "Define o ciclo de vida de uma variável."
      ]
    },
    {
      "cell_type": "markdown",
      "metadata": {
        "id": "ozbwsD4Lu7p6"
      },
      "source": [
        " - Escopo de função."
      ]
    },
    {
      "cell_type": "code",
      "metadata": {
        "id": "ePdJM9qQuWrF"
      },
      "source": [
        "def soma_lista(numeros: list) -> int:\n",
        "  s = 0\n",
        "  for numero in numeros:\n",
        "    s = s + numero\n",
        "  return s"
      ],
      "execution_count": 26,
      "outputs": []
    },
    {
      "cell_type": "code",
      "metadata": {
        "id": "3tILascnunHK",
        "colab": {
          "base_uri": "https://localhost:8080/"
        },
        "outputId": "6f262677-5d13-4dad-8567-7cbb15284179"
      },
      "source": [
        "soma = soma_lista(numeros=[2] * 20)\n",
        "print(soma)"
      ],
      "execution_count": 27,
      "outputs": [
        {
          "output_type": "stream",
          "name": "stdout",
          "text": [
            "40\n"
          ]
        }
      ]
    },
    {
      "cell_type": "code",
      "metadata": {
        "id": "eGUN-4_ju0a6",
        "colab": {
          "base_uri": "https://localhost:8080/",
          "height": 166
        },
        "outputId": "2df7a70c-f957-4dbb-9f4c-a96824e053ea"
      },
      "source": [
        "print(s)"
      ],
      "execution_count": 28,
      "outputs": [
        {
          "output_type": "error",
          "ename": "NameError",
          "evalue": "ignored",
          "traceback": [
            "\u001b[0;31m---------------------------------------------------------------------------\u001b[0m",
            "\u001b[0;31mNameError\u001b[0m                                 Traceback (most recent call last)",
            "\u001b[0;32m<ipython-input-28-0ff1b7208845>\u001b[0m in \u001b[0;36m<module>\u001b[0;34m()\u001b[0m\n\u001b[0;32m----> 1\u001b[0;31m \u001b[0mprint\u001b[0m\u001b[0;34m(\u001b[0m\u001b[0ms\u001b[0m\u001b[0;34m)\u001b[0m\u001b[0;34m\u001b[0m\u001b[0;34m\u001b[0m\u001b[0m\n\u001b[0m",
            "\u001b[0;31mNameError\u001b[0m: name 's' is not defined"
          ]
        }
      ]
    },
    {
      "cell_type": "markdown",
      "metadata": {
        "id": "X1lEDZMpu-Zg"
      },
      "source": [
        " - Escopo de estrutura condicional / repetição."
      ]
    },
    {
      "cell_type": "code",
      "metadata": {
        "id": "hQQ85zrYvP-w",
        "colab": {
          "base_uri": "https://localhost:8080/"
        },
        "outputId": "e53bb5ff-b827-490b-ce02-fa3e5482e7cc"
      },
      "source": [
        "if True:\n",
        "  x = 100\n",
        "else:\n",
        "  w = 50\n",
        "\n",
        "print(x)"
      ],
      "execution_count": 29,
      "outputs": [
        {
          "output_type": "stream",
          "name": "stdout",
          "text": [
            "100\n"
          ]
        }
      ]
    },
    {
      "cell_type": "markdown",
      "source": [
        "ec"
      ],
      "metadata": {
        "id": "xqidY-m1uFcB"
      }
    },
    {
      "cell_type": "code",
      "source": [
        "%%writefile musica.txt\n",
        "Roda Viva\n",
        "Chico Buarque\n",
        "Tem dias que a gente se sente\n",
        "Como quem partiu ou morreu\n",
        "A gente estancou de repente\n",
        "Ou foi o mundo então que cresceu\n",
        "A gente quer ter voz ativa\n",
        "No nosso destino mandar\n",
        "Mas eis que chega a roda viva\n",
        "E carrega o destino pra lá\n",
        "Roda mundo, roda-gigante\n",
        "Roda moinho, roda pião\n",
        "O tempo rodou num instante\n",
        "Nas voltas do meu coração\n",
        "A gente vai contra a corrente\n",
        "Até não poder resistir\n",
        "Na volta do barco é que sente\n",
        "O quanto deixou de cumprir\n",
        "Faz tempo que a gente cultiva\n",
        "A mais linda roseira que há\n",
        "Mas eis que chega a roda viva\n",
        "E carrega a roseira pra lá\n",
        "Roda mundo, roda-gigante\n",
        "Roda moinho, roda pião"
      ],
      "metadata": {
        "colab": {
          "base_uri": "https://localhost:8080/"
        },
        "id": "cBV1sfnmvNmk",
        "outputId": "53fc6e78-8349-4f39-8ba3-34e6abdfe157"
      },
      "execution_count": 24,
      "outputs": [
        {
          "output_type": "stream",
          "name": "stdout",
          "text": [
            "Writing musica.txt\n"
          ]
        }
      ]
    },
    {
      "cell_type": "code",
      "source": [
        "%%writefile carros.csv\n",
        "id,valor_venda,valor_manutencao,portas,pessoas,porta_malas\n",
        "1,vhigh,med,2,2,small\n",
        "2,med,vhigh,2,2,small\n",
        "3,low,vhigh,2,2,small\n",
        "4,low,high,2,2,small\n",
        "5,low,high,2,2,small\n",
        "6,low,high,4,4,big\n",
        "7,low,high,4,4,big\n",
        "8,low,med,2,2,small\n",
        "9,low,med,2,2,small\n",
        "10,low,med,2,2,small\n",
        "11,low,med,4,4,big\n",
        "12,low,low,2,2,small\n",
        "13,low,low,4,4,small\n",
        "14,low,low,4,4,med"
      ],
      "metadata": {
        "colab": {
          "base_uri": "https://localhost:8080/"
        },
        "id": "vBoHuy06vATr",
        "outputId": "fd4f6a67-f881-4691-9e77-7feec12629ce"
      },
      "execution_count": 5,
      "outputs": [
        {
          "output_type": "stream",
          "name": "stdout",
          "text": [
            "Writing carros.csv\n"
          ]
        }
      ]
    },
    {
      "cell_type": "markdown",
      "source": [
        "**1. Funções para arquivo csv**\n",
        "\n",
        "Complete a função abaixo para extrair uma coluna do \n",
        "arquivo csv em uma lista. Os elementos\n",
        "devem ter o tipo de dado correto."
      ],
      "metadata": {
        "id": "nCuFhxc1vSYo"
      }
    },
    {
      "cell_type": "code",
      "source": [
        "coluna = []\n",
        "\n",
        "with open(file='./carros.csv', mode='r', encoding='utf8') as arquivo:\n",
        "    linha = arquivo.readline() # le a primeira linha\n",
        "    while linha:\n",
        "      coluna.append(linha)\n",
        "      linha = arquivo.readline()\n",
        "print(coluna)  \n",
        "\n",
        "for linha in coluna:\n",
        "  print(linha)\n",
        "\n",
        "  # leia o arquivo com o comando 'with' utilizando o parametro 'nome_arquivo'\n",
        "  # extraia a coluna do arquivo utilizando o parametro 'indice_coluna'\n",
        "  # use a estrutura de decisão if/elif/else para fazer a conversão do tipo de dados utilizando o parametro 'tipo_dado'\n"
      ],
      "metadata": {
        "colab": {
          "base_uri": "https://localhost:8080/"
        },
        "id": "8msEFQ5VvYfD",
        "outputId": "fed45412-7070-4ee7-ff5e-9329327eb1b3"
      },
      "execution_count": 7,
      "outputs": [
        {
          "output_type": "stream",
          "name": "stdout",
          "text": [
            "['id,valor_venda,valor_manutencao,portas,pessoas,porta_malas\\n', '1,vhigh,med,2,2,small\\n', '2,med,vhigh,2,2,small\\n', '3,low,vhigh,2,2,small\\n', '4,low,high,2,2,small\\n', '5,low,high,2,2,small\\n', '6,low,high,4,4,big\\n', '7,low,high,4,4,big\\n', '8,low,med,2,2,small\\n', '9,low,med,2,2,small\\n', '10,low,med,2,2,small\\n', '11,low,med,4,4,big\\n', '12,low,low,2,2,small\\n', '13,low,low,4,4,small\\n', '14,low,low,4,4,med']\n",
            "id,valor_venda,valor_manutencao,portas,pessoas,porta_malas\n",
            "\n",
            "1,vhigh,med,2,2,small\n",
            "\n",
            "2,med,vhigh,2,2,small\n",
            "\n",
            "3,low,vhigh,2,2,small\n",
            "\n",
            "4,low,high,2,2,small\n",
            "\n",
            "5,low,high,2,2,small\n",
            "\n",
            "6,low,high,4,4,big\n",
            "\n",
            "7,low,high,4,4,big\n",
            "\n",
            "8,low,med,2,2,small\n",
            "\n",
            "9,low,med,2,2,small\n",
            "\n",
            "10,low,med,2,2,small\n",
            "\n",
            "11,low,med,4,4,big\n",
            "\n",
            "12,low,low,2,2,small\n",
            "\n",
            "13,low,low,4,4,small\n",
            "\n",
            "14,low,low,4,4,med\n"
          ]
        }
      ]
    },
    {
      "cell_type": "code",
      "source": [
        "#id = []\n",
        "ids = []\n",
        "\n",
        "with open(file='./carros.csv', mode='r', encoding='utf8') as arquivos:\n",
        "  linha = arquivos.readline() #le cabeçalho\n",
        "  linha = arquivos.readline() # le a primeira linha\n",
        "  while linha:\n",
        "    linhas_separada = linha.split(sep=',') # quebra a string nas virgulas e salva o resultado em uma lista\n",
        "    id = linhas_separada[0] # seleciona o 1 elemento da lista\n",
        "    id = int(id) # converte o valor de string para integer (inteiro)\n",
        "    ids.append(id) # salva o valor na lista de idades\n",
        "    linha = arquivos.readline() # le uma nova linha, se a linha nao existir, salva o valor none\n",
        "\n",
        "    print(id)"
      ],
      "metadata": {
        "colab": {
          "base_uri": "https://localhost:8080/"
        },
        "id": "QMwyflLlvmLJ",
        "outputId": "0c2045bf-4664-49bc-a49b-a96b912b4c86"
      },
      "execution_count": 23,
      "outputs": [
        {
          "output_type": "stream",
          "name": "stdout",
          "text": [
            "1\n",
            "2\n",
            "3\n",
            "4\n",
            "5\n",
            "6\n",
            "7\n",
            "8\n",
            "9\n",
            "10\n",
            "11\n",
            "12\n",
            "13\n",
            "14\n"
          ]
        }
      ]
    },
    {
      "cell_type": "markdown",
      "source": [
        ""
      ],
      "metadata": {
        "id": "aq0plDdsvhQx"
      }
    },
    {
      "cell_type": "markdown",
      "source": [
        "**2. Funções para arquivo txt**\n",
        "\n",
        "Complete a função abaixo para extrair uma as palavras de \n",
        "uma linha do arquivo txt em uma\n",
        "lista."
      ],
      "metadata": {
        "id": "CB6aPZPyvz8m"
      }
    },
    {
      "cell_type": "code",
      "source": [
        "def extrai_linha_txt(nome_arquivo: str, numero_linha: int):\n",
        " palavras_linha = []\n",
        " # leia o arquivo com o comando 'with' utilizando o parametro -\n",
        " # - 'nome_arquivo'\n",
        " # extraia a linha do arquivo utilizando o parametro 'numero_linha'\n",
        " # quebre a linha em palavras com o comando split, -\n",
        " # - note que o separador é um espaço ' '\n",
        " return palavras_linha"
      ],
      "metadata": {
        "id": "ehGtLbc4v2we"
      },
      "execution_count": 34,
      "outputs": []
    },
    {
      "cell_type": "code",
      "source": [
        "linha10 = extrai_linha_txt(nome_arquivo='./musica.txt', numero_linha=10)\n",
        "print(linha10)\n",
        "# deve retornar ['Mas', 'eis', 'que', 'chega', 'a', 'roda', 'viva']"
      ],
      "metadata": {
        "colab": {
          "base_uri": "https://localhost:8080/"
        },
        "id": "ueZV29VTv5h8",
        "outputId": "7a0d6b27-1d1b-47c0-ce81-53ce3c4e667f"
      },
      "execution_count": 35,
      "outputs": [
        {
          "output_type": "stream",
          "name": "stdout",
          "text": [
            "[]\n"
          ]
        }
      ]
    },
    {
      "cell_type": "code",
      "source": [
        "escritas = []\n",
        "\n",
        "with open(file='./musica.txt', mode='r', encoding='utf8') as leituras:\n",
        "  with open(file='./musicas.csv', mode='w', encoding='utf8') as escritas:\n",
        "    linha = leituras.readline()\n",
        "    while linha:\n",
        "      escritas.write(linha)\n",
        "      linha = leituras.readline()\n"
      ],
      "metadata": {
        "id": "s95fsteY0zJ0"
      },
      "execution_count": 30,
      "outputs": []
    }
  ]
}