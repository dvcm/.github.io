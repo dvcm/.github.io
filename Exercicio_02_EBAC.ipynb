{
  "nbformat": 4,
  "nbformat_minor": 0,
  "metadata": {
    "colab": {
      "name": "Exercicio-02-EBAC.ipynb",
      "private_outputs": true,
      "provenance": [],
      "authorship_tag": "ABX9TyNrokyW/26u0lo2tvKPOkMc",
      "include_colab_link": true
    },
    "kernelspec": {
      "name": "python3",
      "display_name": "Python 3"
    },
    "language_info": {
      "name": "python"
    }
  },
  "cells": [
    {
      "cell_type": "markdown",
      "metadata": {
        "id": "view-in-github",
        "colab_type": "text"
      },
      "source": [
        "<a href=\"https://colab.research.google.com/github/dvcm/.github.io/blob/main/Exercicio_02_EBAC.ipynb\" target=\"_parent\"><img src=\"https://colab.research.google.com/assets/colab-badge.svg\" alt=\"Open In Colab\"/></a>"
      ]
    },
    {
      "cell_type": "markdown",
      "source": [
        "**1. Listas**\n",
        "\n",
        "Criei uma lista chamada filmes com o nome dos 10 primeiros filmes mais bem \n",
        "avaliados no\n",
        "\n",
        "site no IMDB. Imprima o resultado"
      ],
      "metadata": {
        "id": "bEBFujfbgPyT"
      }
    },
    {
      "cell_type": "code",
      "source": [
        "filmes = ['Um Sonho de Liberdade','O Poderoso Chefão','Batman: O Cavaleiro das Trevas','O Poderoso Chefão II','12 Homens e uma Sentença','A Lista de Schindler','O Senhor dos Anéis: O Retorno do Rei','Pulp Fiction: Tempo de Violência','O Senhor dos Anéis: A Sociedade do Anel','Três Homens em Conflito']\n",
        "\n",
        "print(filmes)\n",
        "print(type(filmes))\n",
        "print(len(filmes))"
      ],
      "metadata": {
        "id": "UUjFQb99gVqa"
      },
      "execution_count": null,
      "outputs": []
    },
    {
      "cell_type": "markdown",
      "source": [
        "Simule a movimentação do ranking. Utilize os métodos insert e pop para trocar a posição\n",
        "\n",
        "do primeiro e do segundo filme da lista. Imprima o resultado."
      ],
      "metadata": {
        "id": "vg4j2ww4e3aK"
      }
    },
    {
      "cell_type": "code",
      "source": [
        "# inserir um elemento sem substituir: list.insert(index, val)\n",
        "#filmes.insert(1, 'O Poderoso Chefão')\n",
        "#filmes.insert(1, 'Um Sonho de Liberdade')\n",
        "#filmes.insert(2, 'Batman: O Cavaleiro das Trevas' )\n",
        "print(filmes)\n",
        "print(len(filmes))\n",
        "\n",
        "# remover um elemento pelo índice: list.pop(val)\n",
        "#filmes_limpar = filmes.pop(1)\n",
        "#print(filmes_limpar)"
      ],
      "metadata": {
        "id": "fbHGE-F7hvz_"
      },
      "execution_count": null,
      "outputs": []
    },
    {
      "cell_type": "markdown",
      "source": [
        "**2. Conjuntos**\n",
        "\n",
        "Aconteceu um erro no seu ranking. Simule a duplicação dos três últimos filmes da lista.\n",
        "\n",
        "Imprima o resultado."
      ],
      "metadata": {
        "id": "4h9q5Kv9e6Pu"
      }
    },
    {
      "cell_type": "code",
      "source": [
        "print(filmes)\n",
        "filmes.insert(11, 'Pulp Fiction: Tempo de Violência')\n",
        "filmes.insert(12, 'O Senhor dos Anéis: A Sociedade do Anel')\n",
        "filmes.insert(13, 'Três Homens em Conflito')"
      ],
      "metadata": {
        "id": "ePzgFiA3e9uX"
      },
      "execution_count": null,
      "outputs": []
    },
    {
      "cell_type": "markdown",
      "source": [
        "Utiliza a conversão set e list para remover os valores duplicados. Imprima o resultado."
      ],
      "metadata": {
        "id": "z_68lmZ_gsNp"
      }
    },
    {
      "cell_type": "code",
      "source": [
        "# remover um elemento pelo valor: list.remove(val)\n",
        "# filmes.remove('Três Homens em Conflito')\n",
        "\n",
        "#filmes.remove('O Senhor dos Anéis: A Sociedade do Anel')\n",
        "filmes.remove('Pulp Fiction: Tempo de Violência')\n",
        "print(filmes)\n",
        "print(len(filmes))"
      ],
      "metadata": {
        "id": "i5DY5u74gxGb"
      },
      "execution_count": null,
      "outputs": []
    },
    {
      "cell_type": "markdown",
      "source": [
        "**3. Dicionários**\n",
        "\n",
        "Repita os exercícios da parte 1 (listas). Os elementos da lista filmes devem ser dicionários\n",
        "\n",
        "no seguinte formato: {'nome': <nome-do-filme>, 'ano': <ano do filme>},\n",
        "'sinopse': <sinopse do filme>} ."
      ],
      "metadata": {
        "id": "yMcEOp4di_hJ"
      }
    },
    {
      "cell_type": "code",
      "source": [
        "brasil = {'Um Sonho de Liberdade': ,'ano'}, 'sinopse':}\n",
        "\n",
        "print(brasil)\n",
        "print(type(brasil))"
      ],
      "metadata": {
        "id": "5pRPykLujC-9"
      },
      "execution_count": null,
      "outputs": []
    }
  ]
}