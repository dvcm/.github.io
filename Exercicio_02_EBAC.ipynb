{
  "nbformat": 4,
  "nbformat_minor": 0,
  "metadata": {
    "colab": {
      "name": "Exercicio-02-EBAC.ipynb",
      "private_outputs": true,
      "provenance": [],
      "authorship_tag": "ABX9TyMVUfeeWP8KSi/5Zj4BHA67",
      "include_colab_link": true
    },
    "kernelspec": {
      "name": "python3",
      "display_name": "Python 3"
    },
    "language_info": {
      "name": "python"
    }
  },
  "cells": [
    {
      "cell_type": "markdown",
      "metadata": {
        "id": "view-in-github",
        "colab_type": "text"
      },
      "source": [
        "<a href=\"https://colab.research.google.com/github/dvcm/.github.io/blob/main/Exercicio_02_EBAC.ipynb\" target=\"_parent\"><img src=\"https://colab.research.google.com/assets/colab-badge.svg\" alt=\"Open In Colab\"/></a>"
      ]
    },
    {
      "cell_type": "markdown",
      "source": [
        "**1. Listas**\n",
        "\n",
        "Criei uma lista chamada filmes com o nome dos 10 primeiros filmes mais bem \n",
        "avaliados no\n",
        "\n",
        "site no IMDB. Imprima o resultado"
      ],
      "metadata": {
        "id": "bEBFujfbgPyT"
      }
    },
    {
      "cell_type": "code",
      "source": [
        "filmes = ['Um Sonho de Liberdade','O Poderoso Chefão','Batman: O Cavaleiro das Trevas','O Poderoso Chefão II','12 Homens e uma Sentença','A Lista de Schindler','O Senhor dos Anéis: O Retorno do Rei','Pulp Fiction: Tempo de Violência','O Senhor dos Anéis: A Sociedade do Anel','Três Homens em Conflito']\n",
        "\n",
        "print(filmes)\n",
        "print(type(filmes))\n",
        "print(len(filmes))"
      ],
      "metadata": {
        "id": "UUjFQb99gVqa"
      },
      "execution_count": null,
      "outputs": []
    },
    {
      "cell_type": "code",
      "source": [
        "# inserir um elemento sem substituir: list.insert(index, val)\n",
        "#filmes.insert(1, 'O Poderoso Chefão')\n",
        "#filmes.insert(1, 'Um Sonho de Liberdade')\n",
        "#filmes.insert(2, 'Batman: O Cavaleiro das Trevas' )\n",
        "print(filmes)\n",
        "print(len(filmes))\n",
        "\n",
        "# remover um elemento pelo índice: list.pop(val)\n",
        "#filmes_limpar = filmes.pop(1)\n",
        "#print(filmes_limpar)"
      ],
      "metadata": {
        "id": "fbHGE-F7hvz_"
      },
      "execution_count": null,
      "outputs": []
    }
  ]
}