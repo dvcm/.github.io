{
  "nbformat": 4,
  "nbformat_minor": 0,
  "metadata": {
    "colab": {
      "name": "Python_M7_support material07_exercise.ipynb",
      "provenance": [],
      "collapsed_sections": [],
      "include_colab_link": true
    },
    "kernelspec": {
      "name": "python3",
      "display_name": "Python 3"
    }
  },
  "cells": [
    {
      "cell_type": "markdown",
      "metadata": {
        "id": "view-in-github",
        "colab_type": "text"
      },
      "source": [
        "<a href=\"https://colab.research.google.com/github/dvcm/.github.io/blob/main/Python_M7_support_material07_exercise.ipynb\" target=\"_parent\"><img src=\"https://colab.research.google.com/assets/colab-badge.svg\" alt=\"Open In Colab\"/></a>"
      ]
    },
    {
      "cell_type": "markdown",
      "metadata": {
        "id": "KJqp9AANOCtf"
      },
      "source": [
        "<img src=\"https://raw.githubusercontent.com/andre-marcos-perez/ebac-course-utils/main/media/logo/newebac_logo_black_half.png\" alt=\"ebac-logo\">\n",
        "\n",
        "---\n",
        "\n",
        "# **Módulo 07** | Python: Programação Orientada a Objetos\n",
        "Caderno de **Exercícios**<br> \n",
        "Professor [André Perez](https://www.linkedin.com/in/andremarcosperez/)\n",
        "\n",
        "---"
      ]
    },
    {
      "cell_type": "markdown",
      "metadata": {
        "id": "d9jDtUbDOE1-"
      },
      "source": [
        "# **Tópicos**\n",
        "\n",
        "<ol type=\"1\">\n",
        "  <li>from / import / as;</li>\n",
        "  <li>Módulo;</li>\n",
        "  <li>Pacote;</li>\n",
        "  <li>Baixando pacotes.</li>\n",
        "</ol>"
      ]
    },
    {
      "cell_type": "markdown",
      "metadata": {
        "id": "SmoHgt-lwkpD"
      },
      "source": [
        "---"
      ]
    },
    {
      "cell_type": "markdown",
      "metadata": {
        "id": "GABI6OW8OfQ2"
      },
      "source": [
        "# **Exercícios**"
      ]
    },
    {
      "cell_type": "markdown",
      "metadata": {
        "id": "muD1vxozykSC"
      },
      "source": [
        "## 0\\. Preparação do ambiente"
      ]
    },
    {
      "cell_type": "markdown",
      "metadata": {
        "id": "ahrFfCuBxJKs"
      },
      "source": [
        "Neste exercício vamos utilizar a base de dados de ações da bolsa de valores dos EUA, a Dow Jones. Os dados estão disponíveis para *download* neste [link](https://archive.ics.uci.edu/ml/datasets/Dow+Jones+Index). Vamos utilizar o pacote `wget` para fazer o *download* dos dados."
      ]
    },
    {
      "cell_type": "markdown",
      "metadata": {
        "id": "AtPc2994meNR"
      },
      "source": [
        " - Instalando o pacote `wget` na versão 3.2."
      ]
    },
    {
      "cell_type": "code",
      "metadata": {
        "id": "DzM3--8Gk_mU",
        "colab": {
          "base_uri": "https://localhost:8080/"
        },
        "outputId": "796717eb-3179-47d0-cdf9-56ff2210daf9"
      },
      "source": [
        "!pip install wget==3.2"
      ],
      "execution_count": 1,
      "outputs": [
        {
          "output_type": "stream",
          "name": "stdout",
          "text": [
            "Looking in indexes: https://pypi.org/simple, https://us-python.pkg.dev/colab-wheels/public/simple/\n",
            "Collecting wget==3.2\n",
            "  Downloading wget-3.2.zip (10 kB)\n",
            "Building wheels for collected packages: wget\n",
            "  Building wheel for wget (setup.py) ... \u001b[?25l\u001b[?25hdone\n",
            "  Created wheel for wget: filename=wget-3.2-py3-none-any.whl size=9675 sha256=fd1e6568913c44eb305957e45e4c8d8841e4fd2d012d688a6f62f724dbd32ce0\n",
            "  Stored in directory: /root/.cache/pip/wheels/a1/b6/7c/0e63e34eb06634181c63adacca38b79ff8f35c37e3c13e3c02\n",
            "Successfully built wget\n",
            "Installing collected packages: wget\n",
            "Successfully installed wget-3.2\n"
          ]
        }
      ]
    },
    {
      "cell_type": "markdown",
      "metadata": {
        "id": "tVc1aUTmmkIU"
      },
      "source": [
        " - Fazendo o download dos dados no arquivo compactado `dados.zip`."
      ]
    },
    {
      "cell_type": "code",
      "metadata": {
        "id": "SZWlsi2blOOt",
        "colab": {
          "base_uri": "https://localhost:8080/",
          "height": 38
        },
        "outputId": "05f3e1f3-a6c9-4f65-b7a1-9dda46d892ec"
      },
      "source": [
        "import wget\n",
        "\n",
        "wget.download(url='https://archive.ics.uci.edu/ml/machine-learning-databases/00312/dow_jones_index.zip', out='./dados.zip')"
      ],
      "execution_count": 2,
      "outputs": [
        {
          "output_type": "execute_result",
          "data": {
            "text/plain": [
              "'./dados.zip'"
            ],
            "application/vnd.google.colaboratory.intrinsic+json": {
              "type": "string"
            }
          },
          "metadata": {},
          "execution_count": 2
        }
      ]
    },
    {
      "cell_type": "markdown",
      "metadata": {
        "id": "339oiie2mvCP"
      },
      "source": [
        " - Descompactando os `dados` na pasta dados com o pacote nativo `zipfile`."
      ]
    },
    {
      "cell_type": "code",
      "metadata": {
        "id": "6tFPV081loK4"
      },
      "source": [
        "import zipfile\n",
        "\n",
        "with zipfile.ZipFile('./dados.zip', 'r') as fp:\n",
        "  fp.extractall('./dados')"
      ],
      "execution_count": 3,
      "outputs": []
    },
    {
      "cell_type": "markdown",
      "metadata": {
        "id": "KI9zQRT2xa7m"
      },
      "source": [
        "Verifique a pasta dados criada, ela deve conter dois arquivos:\n",
        "\n",
        " - **dow_jones_index.data**: um arquivo com os dados;\n",
        " - **dow_jones_index.names**: um arquivo com a descrição completa dos dados.\n",
        "\n",
        "É possível observar que o arquivo de dados é um arquivo separado por virgulas, o famoso `csv`. Vamos renomear o arquivo de dados para que ele tenha a extensão `csv` com o pacote nativo `os`."
      ]
    },
    {
      "cell_type": "markdown",
      "metadata": {
        "id": "5k7LLQU5n8aY"
      },
      "source": [
        "- Renomeando o arquivo com o pacote nativo `os`."
      ]
    },
    {
      "cell_type": "code",
      "metadata": {
        "id": "PyZ2zqwcn5CU"
      },
      "source": [
        "import os\n",
        "\n",
        "os.rename('./dados/dow_jones_index.data', './dados/dow_jones_index.csv')"
      ],
      "execution_count": 4,
      "outputs": []
    },
    {
      "cell_type": "markdown",
      "metadata": {
        "id": "2Zf74P1yoeYc"
      },
      "source": [
        "Pronto! Abra o arquivo e o Google Colab irá apresentar uma visualização bem legal dos dados."
      ]
    },
    {
      "cell_type": "markdown",
      "metadata": {
        "id": "zMN1Q3jdwoJm"
      },
      "source": [
        "---"
      ]
    },
    {
      "cell_type": "markdown",
      "metadata": {
        "id": "FwqgmwxakNh6"
      },
      "source": [
        "## 1\\. Pandas"
      ]
    },
    {
      "cell_type": "markdown",
      "metadata": {
        "id": "It_mfyHzkRJ8"
      },
      "source": [
        "Para processar os dados, vamos utilizar o pacote `pandas` na versão `1.1.5`. A documentação completa por ser encontrada neste [link](https://pandas.pydata.org/docs/)"
      ]
    },
    {
      "cell_type": "code",
      "metadata": {
        "id": "DF3DkjPjpn1X",
        "colab": {
          "base_uri": "https://localhost:8080/"
        },
        "outputId": "0d128336-0ac7-43cf-f075-f1b792fa2bb6"
      },
      "source": [
        "!pip install pandas==1.1.5"
      ],
      "execution_count": 5,
      "outputs": [
        {
          "output_type": "stream",
          "name": "stdout",
          "text": [
            "Looking in indexes: https://pypi.org/simple, https://us-python.pkg.dev/colab-wheels/public/simple/\n",
            "Collecting pandas==1.1.5\n",
            "  Downloading pandas-1.1.5-cp37-cp37m-manylinux1_x86_64.whl (9.5 MB)\n",
            "\u001b[K     |████████████████████████████████| 9.5 MB 13.1 MB/s \n",
            "\u001b[?25hRequirement already satisfied: python-dateutil>=2.7.3 in /usr/local/lib/python3.7/dist-packages (from pandas==1.1.5) (2.8.2)\n",
            "Requirement already satisfied: pytz>=2017.2 in /usr/local/lib/python3.7/dist-packages (from pandas==1.1.5) (2022.1)\n",
            "Requirement already satisfied: numpy>=1.15.4 in /usr/local/lib/python3.7/dist-packages (from pandas==1.1.5) (1.21.6)\n",
            "Requirement already satisfied: six>=1.5 in /usr/local/lib/python3.7/dist-packages (from python-dateutil>=2.7.3->pandas==1.1.5) (1.15.0)\n",
            "Installing collected packages: pandas\n",
            "  Attempting uninstall: pandas\n",
            "    Found existing installation: pandas 1.3.5\n",
            "    Uninstalling pandas-1.3.5:\n",
            "      Successfully uninstalled pandas-1.3.5\n",
            "Successfully installed pandas-1.1.5\n"
          ]
        }
      ]
    },
    {
      "cell_type": "markdown",
      "metadata": {
        "id": "CqVcTZE-wyBt"
      },
      "source": [
        "Vamos importar o pacote com o apelido (alias) `pd`."
      ]
    },
    {
      "cell_type": "code",
      "metadata": {
        "id": "qjA_H6WapxK3"
      },
      "source": [
        "import pandas as pd"
      ],
      "execution_count": 6,
      "outputs": []
    },
    {
      "cell_type": "markdown",
      "metadata": {
        "id": "KFQ77on-w0Fo"
      },
      "source": [
        "Estamos prontos para ler o arquivo."
      ]
    },
    {
      "cell_type": "code",
      "metadata": {
        "id": "-1yL07iwqWk3"
      },
      "source": [
        "df = pd.read_csv('./dados/dow_jones_index.csv')"
      ],
      "execution_count": 7,
      "outputs": []
    },
    {
      "cell_type": "markdown",
      "metadata": {
        "id": "mnLvLSWCxGt_"
      },
      "source": [
        "O pandas trabalha com o conceito de dataframe, uma estrutura de dados com muitos métodos e atributos que aceleram o processamento de dados. Alguns exemplos:"
      ]
    },
    {
      "cell_type": "markdown",
      "metadata": {
        "id": "rf6pevg7xIuQ"
      },
      "source": [
        " - Visualizando as `n` primeiras linhas:"
      ]
    },
    {
      "cell_type": "code",
      "metadata": {
        "id": "fqF7AQvRqn69",
        "colab": {
          "base_uri": "https://localhost:8080/",
          "height": 427
        },
        "outputId": "f4122640-cdd2-4eca-f634-15bfb19c333d"
      },
      "source": [
        "df.head(n=10)"
      ],
      "execution_count": 8,
      "outputs": [
        {
          "output_type": "execute_result",
          "data": {
            "text/plain": [
              "   quarter stock       date    open    high     low   close     volume  \\\n",
              "0        1    AA   1/7/2011  $15.82  $16.72  $15.78  $16.42  239655616   \n",
              "1        1    AA  1/14/2011  $16.71  $16.71  $15.64  $15.97  242963398   \n",
              "2        1    AA  1/21/2011  $16.19  $16.38  $15.60  $15.79  138428495   \n",
              "3        1    AA  1/28/2011  $15.87  $16.63  $15.82  $16.13  151379173   \n",
              "4        1    AA   2/4/2011  $16.18  $17.39  $16.18  $17.14  154387761   \n",
              "5        1    AA  2/11/2011  $17.33  $17.48  $16.97  $17.37  114691279   \n",
              "6        1    AA  2/18/2011  $17.39  $17.68  $17.28  $17.28   80023895   \n",
              "7        1    AA  2/25/2011  $16.98  $17.15  $15.96  $16.68  132981863   \n",
              "8        1    AA   3/4/2011  $16.81  $16.94  $16.13  $16.58  109493077   \n",
              "9        1    AA  3/11/2011  $16.58  $16.75  $15.42  $16.03  114332562   \n",
              "\n",
              "   percent_change_price  percent_change_volume_over_last_wk  \\\n",
              "0              3.792670                                 NaN   \n",
              "1             -4.428490                            1.380223   \n",
              "2             -2.470660                          -43.024959   \n",
              "3              1.638310                            9.355500   \n",
              "4              5.933250                            1.987452   \n",
              "5              0.230814                          -25.712195   \n",
              "6             -0.632547                          -30.226696   \n",
              "7             -1.766780                           66.177694   \n",
              "8             -1.368230                          -17.663150   \n",
              "9             -3.317250                            4.419900   \n",
              "\n",
              "   previous_weeks_volume next_weeks_open next_weeks_close  \\\n",
              "0                    NaN          $16.71           $15.97   \n",
              "1            239655616.0          $16.19           $15.79   \n",
              "2            242963398.0          $15.87           $16.13   \n",
              "3            138428495.0          $16.18           $17.14   \n",
              "4            151379173.0          $17.33           $17.37   \n",
              "5            154387761.0          $17.39           $17.28   \n",
              "6            114691279.0          $16.98           $16.68   \n",
              "7             80023895.0          $16.81           $16.58   \n",
              "8            132981863.0          $16.58           $16.03   \n",
              "9            109493077.0          $15.95           $16.11   \n",
              "\n",
              "   percent_change_next_weeks_price  days_to_next_dividend  \\\n",
              "0                        -4.428490                     26   \n",
              "1                        -2.470660                     19   \n",
              "2                         1.638310                     12   \n",
              "3                         5.933250                      5   \n",
              "4                         0.230814                     97   \n",
              "5                        -0.632547                     90   \n",
              "6                        -1.766780                     83   \n",
              "7                        -1.368230                     76   \n",
              "8                        -3.317250                     69   \n",
              "9                         1.003130                     62   \n",
              "\n",
              "   percent_return_next_dividend  \n",
              "0                      0.182704  \n",
              "1                      0.187852  \n",
              "2                      0.189994  \n",
              "3                      0.185989  \n",
              "4                      0.175029  \n",
              "5                      0.172712  \n",
              "6                      0.173611  \n",
              "7                      0.179856  \n",
              "8                      0.180941  \n",
              "9                      0.187149  "
            ],
            "text/html": [
              "\n",
              "  <div id=\"df-46e0dffe-2cd1-4d9d-b2e9-32875e58119d\">\n",
              "    <div class=\"colab-df-container\">\n",
              "      <div>\n",
              "<style scoped>\n",
              "    .dataframe tbody tr th:only-of-type {\n",
              "        vertical-align: middle;\n",
              "    }\n",
              "\n",
              "    .dataframe tbody tr th {\n",
              "        vertical-align: top;\n",
              "    }\n",
              "\n",
              "    .dataframe thead th {\n",
              "        text-align: right;\n",
              "    }\n",
              "</style>\n",
              "<table border=\"1\" class=\"dataframe\">\n",
              "  <thead>\n",
              "    <tr style=\"text-align: right;\">\n",
              "      <th></th>\n",
              "      <th>quarter</th>\n",
              "      <th>stock</th>\n",
              "      <th>date</th>\n",
              "      <th>open</th>\n",
              "      <th>high</th>\n",
              "      <th>low</th>\n",
              "      <th>close</th>\n",
              "      <th>volume</th>\n",
              "      <th>percent_change_price</th>\n",
              "      <th>percent_change_volume_over_last_wk</th>\n",
              "      <th>previous_weeks_volume</th>\n",
              "      <th>next_weeks_open</th>\n",
              "      <th>next_weeks_close</th>\n",
              "      <th>percent_change_next_weeks_price</th>\n",
              "      <th>days_to_next_dividend</th>\n",
              "      <th>percent_return_next_dividend</th>\n",
              "    </tr>\n",
              "  </thead>\n",
              "  <tbody>\n",
              "    <tr>\n",
              "      <th>0</th>\n",
              "      <td>1</td>\n",
              "      <td>AA</td>\n",
              "      <td>1/7/2011</td>\n",
              "      <td>$15.82</td>\n",
              "      <td>$16.72</td>\n",
              "      <td>$15.78</td>\n",
              "      <td>$16.42</td>\n",
              "      <td>239655616</td>\n",
              "      <td>3.792670</td>\n",
              "      <td>NaN</td>\n",
              "      <td>NaN</td>\n",
              "      <td>$16.71</td>\n",
              "      <td>$15.97</td>\n",
              "      <td>-4.428490</td>\n",
              "      <td>26</td>\n",
              "      <td>0.182704</td>\n",
              "    </tr>\n",
              "    <tr>\n",
              "      <th>1</th>\n",
              "      <td>1</td>\n",
              "      <td>AA</td>\n",
              "      <td>1/14/2011</td>\n",
              "      <td>$16.71</td>\n",
              "      <td>$16.71</td>\n",
              "      <td>$15.64</td>\n",
              "      <td>$15.97</td>\n",
              "      <td>242963398</td>\n",
              "      <td>-4.428490</td>\n",
              "      <td>1.380223</td>\n",
              "      <td>239655616.0</td>\n",
              "      <td>$16.19</td>\n",
              "      <td>$15.79</td>\n",
              "      <td>-2.470660</td>\n",
              "      <td>19</td>\n",
              "      <td>0.187852</td>\n",
              "    </tr>\n",
              "    <tr>\n",
              "      <th>2</th>\n",
              "      <td>1</td>\n",
              "      <td>AA</td>\n",
              "      <td>1/21/2011</td>\n",
              "      <td>$16.19</td>\n",
              "      <td>$16.38</td>\n",
              "      <td>$15.60</td>\n",
              "      <td>$15.79</td>\n",
              "      <td>138428495</td>\n",
              "      <td>-2.470660</td>\n",
              "      <td>-43.024959</td>\n",
              "      <td>242963398.0</td>\n",
              "      <td>$15.87</td>\n",
              "      <td>$16.13</td>\n",
              "      <td>1.638310</td>\n",
              "      <td>12</td>\n",
              "      <td>0.189994</td>\n",
              "    </tr>\n",
              "    <tr>\n",
              "      <th>3</th>\n",
              "      <td>1</td>\n",
              "      <td>AA</td>\n",
              "      <td>1/28/2011</td>\n",
              "      <td>$15.87</td>\n",
              "      <td>$16.63</td>\n",
              "      <td>$15.82</td>\n",
              "      <td>$16.13</td>\n",
              "      <td>151379173</td>\n",
              "      <td>1.638310</td>\n",
              "      <td>9.355500</td>\n",
              "      <td>138428495.0</td>\n",
              "      <td>$16.18</td>\n",
              "      <td>$17.14</td>\n",
              "      <td>5.933250</td>\n",
              "      <td>5</td>\n",
              "      <td>0.185989</td>\n",
              "    </tr>\n",
              "    <tr>\n",
              "      <th>4</th>\n",
              "      <td>1</td>\n",
              "      <td>AA</td>\n",
              "      <td>2/4/2011</td>\n",
              "      <td>$16.18</td>\n",
              "      <td>$17.39</td>\n",
              "      <td>$16.18</td>\n",
              "      <td>$17.14</td>\n",
              "      <td>154387761</td>\n",
              "      <td>5.933250</td>\n",
              "      <td>1.987452</td>\n",
              "      <td>151379173.0</td>\n",
              "      <td>$17.33</td>\n",
              "      <td>$17.37</td>\n",
              "      <td>0.230814</td>\n",
              "      <td>97</td>\n",
              "      <td>0.175029</td>\n",
              "    </tr>\n",
              "    <tr>\n",
              "      <th>5</th>\n",
              "      <td>1</td>\n",
              "      <td>AA</td>\n",
              "      <td>2/11/2011</td>\n",
              "      <td>$17.33</td>\n",
              "      <td>$17.48</td>\n",
              "      <td>$16.97</td>\n",
              "      <td>$17.37</td>\n",
              "      <td>114691279</td>\n",
              "      <td>0.230814</td>\n",
              "      <td>-25.712195</td>\n",
              "      <td>154387761.0</td>\n",
              "      <td>$17.39</td>\n",
              "      <td>$17.28</td>\n",
              "      <td>-0.632547</td>\n",
              "      <td>90</td>\n",
              "      <td>0.172712</td>\n",
              "    </tr>\n",
              "    <tr>\n",
              "      <th>6</th>\n",
              "      <td>1</td>\n",
              "      <td>AA</td>\n",
              "      <td>2/18/2011</td>\n",
              "      <td>$17.39</td>\n",
              "      <td>$17.68</td>\n",
              "      <td>$17.28</td>\n",
              "      <td>$17.28</td>\n",
              "      <td>80023895</td>\n",
              "      <td>-0.632547</td>\n",
              "      <td>-30.226696</td>\n",
              "      <td>114691279.0</td>\n",
              "      <td>$16.98</td>\n",
              "      <td>$16.68</td>\n",
              "      <td>-1.766780</td>\n",
              "      <td>83</td>\n",
              "      <td>0.173611</td>\n",
              "    </tr>\n",
              "    <tr>\n",
              "      <th>7</th>\n",
              "      <td>1</td>\n",
              "      <td>AA</td>\n",
              "      <td>2/25/2011</td>\n",
              "      <td>$16.98</td>\n",
              "      <td>$17.15</td>\n",
              "      <td>$15.96</td>\n",
              "      <td>$16.68</td>\n",
              "      <td>132981863</td>\n",
              "      <td>-1.766780</td>\n",
              "      <td>66.177694</td>\n",
              "      <td>80023895.0</td>\n",
              "      <td>$16.81</td>\n",
              "      <td>$16.58</td>\n",
              "      <td>-1.368230</td>\n",
              "      <td>76</td>\n",
              "      <td>0.179856</td>\n",
              "    </tr>\n",
              "    <tr>\n",
              "      <th>8</th>\n",
              "      <td>1</td>\n",
              "      <td>AA</td>\n",
              "      <td>3/4/2011</td>\n",
              "      <td>$16.81</td>\n",
              "      <td>$16.94</td>\n",
              "      <td>$16.13</td>\n",
              "      <td>$16.58</td>\n",
              "      <td>109493077</td>\n",
              "      <td>-1.368230</td>\n",
              "      <td>-17.663150</td>\n",
              "      <td>132981863.0</td>\n",
              "      <td>$16.58</td>\n",
              "      <td>$16.03</td>\n",
              "      <td>-3.317250</td>\n",
              "      <td>69</td>\n",
              "      <td>0.180941</td>\n",
              "    </tr>\n",
              "    <tr>\n",
              "      <th>9</th>\n",
              "      <td>1</td>\n",
              "      <td>AA</td>\n",
              "      <td>3/11/2011</td>\n",
              "      <td>$16.58</td>\n",
              "      <td>$16.75</td>\n",
              "      <td>$15.42</td>\n",
              "      <td>$16.03</td>\n",
              "      <td>114332562</td>\n",
              "      <td>-3.317250</td>\n",
              "      <td>4.419900</td>\n",
              "      <td>109493077.0</td>\n",
              "      <td>$15.95</td>\n",
              "      <td>$16.11</td>\n",
              "      <td>1.003130</td>\n",
              "      <td>62</td>\n",
              "      <td>0.187149</td>\n",
              "    </tr>\n",
              "  </tbody>\n",
              "</table>\n",
              "</div>\n",
              "      <button class=\"colab-df-convert\" onclick=\"convertToInteractive('df-46e0dffe-2cd1-4d9d-b2e9-32875e58119d')\"\n",
              "              title=\"Convert this dataframe to an interactive table.\"\n",
              "              style=\"display:none;\">\n",
              "        \n",
              "  <svg xmlns=\"http://www.w3.org/2000/svg\" height=\"24px\"viewBox=\"0 0 24 24\"\n",
              "       width=\"24px\">\n",
              "    <path d=\"M0 0h24v24H0V0z\" fill=\"none\"/>\n",
              "    <path d=\"M18.56 5.44l.94 2.06.94-2.06 2.06-.94-2.06-.94-.94-2.06-.94 2.06-2.06.94zm-11 1L8.5 8.5l.94-2.06 2.06-.94-2.06-.94L8.5 2.5l-.94 2.06-2.06.94zm10 10l.94 2.06.94-2.06 2.06-.94-2.06-.94-.94-2.06-.94 2.06-2.06.94z\"/><path d=\"M17.41 7.96l-1.37-1.37c-.4-.4-.92-.59-1.43-.59-.52 0-1.04.2-1.43.59L10.3 9.45l-7.72 7.72c-.78.78-.78 2.05 0 2.83L4 21.41c.39.39.9.59 1.41.59.51 0 1.02-.2 1.41-.59l7.78-7.78 2.81-2.81c.8-.78.8-2.07 0-2.86zM5.41 20L4 18.59l7.72-7.72 1.47 1.35L5.41 20z\"/>\n",
              "  </svg>\n",
              "      </button>\n",
              "      \n",
              "  <style>\n",
              "    .colab-df-container {\n",
              "      display:flex;\n",
              "      flex-wrap:wrap;\n",
              "      gap: 12px;\n",
              "    }\n",
              "\n",
              "    .colab-df-convert {\n",
              "      background-color: #E8F0FE;\n",
              "      border: none;\n",
              "      border-radius: 50%;\n",
              "      cursor: pointer;\n",
              "      display: none;\n",
              "      fill: #1967D2;\n",
              "      height: 32px;\n",
              "      padding: 0 0 0 0;\n",
              "      width: 32px;\n",
              "    }\n",
              "\n",
              "    .colab-df-convert:hover {\n",
              "      background-color: #E2EBFA;\n",
              "      box-shadow: 0px 1px 2px rgba(60, 64, 67, 0.3), 0px 1px 3px 1px rgba(60, 64, 67, 0.15);\n",
              "      fill: #174EA6;\n",
              "    }\n",
              "\n",
              "    [theme=dark] .colab-df-convert {\n",
              "      background-color: #3B4455;\n",
              "      fill: #D2E3FC;\n",
              "    }\n",
              "\n",
              "    [theme=dark] .colab-df-convert:hover {\n",
              "      background-color: #434B5C;\n",
              "      box-shadow: 0px 1px 3px 1px rgba(0, 0, 0, 0.15);\n",
              "      filter: drop-shadow(0px 1px 2px rgba(0, 0, 0, 0.3));\n",
              "      fill: #FFFFFF;\n",
              "    }\n",
              "  </style>\n",
              "\n",
              "      <script>\n",
              "        const buttonEl =\n",
              "          document.querySelector('#df-46e0dffe-2cd1-4d9d-b2e9-32875e58119d button.colab-df-convert');\n",
              "        buttonEl.style.display =\n",
              "          google.colab.kernel.accessAllowed ? 'block' : 'none';\n",
              "\n",
              "        async function convertToInteractive(key) {\n",
              "          const element = document.querySelector('#df-46e0dffe-2cd1-4d9d-b2e9-32875e58119d');\n",
              "          const dataTable =\n",
              "            await google.colab.kernel.invokeFunction('convertToInteractive',\n",
              "                                                     [key], {});\n",
              "          if (!dataTable) return;\n",
              "\n",
              "          const docLinkHtml = 'Like what you see? Visit the ' +\n",
              "            '<a target=\"_blank\" href=https://colab.research.google.com/notebooks/data_table.ipynb>data table notebook</a>'\n",
              "            + ' to learn more about interactive tables.';\n",
              "          element.innerHTML = '';\n",
              "          dataTable['output_type'] = 'display_data';\n",
              "          await google.colab.output.renderOutput(dataTable, element);\n",
              "          const docLink = document.createElement('div');\n",
              "          docLink.innerHTML = docLinkHtml;\n",
              "          element.appendChild(docLink);\n",
              "        }\n",
              "      </script>\n",
              "    </div>\n",
              "  </div>\n",
              "  "
            ]
          },
          "metadata": {},
          "execution_count": 8
        }
      ]
    },
    {
      "cell_type": "markdown",
      "metadata": {
        "id": "Jna7T1eqxRmH"
      },
      "source": [
        " - Visualizando o nome das colunas:"
      ]
    },
    {
      "cell_type": "code",
      "metadata": {
        "id": "bX_7C45pxU8Q",
        "colab": {
          "base_uri": "https://localhost:8080/"
        },
        "outputId": "4d03fbe2-d0cb-4b99-f37d-b0d5846e5dcb"
      },
      "source": [
        "df.columns.to_list()"
      ],
      "execution_count": 9,
      "outputs": [
        {
          "output_type": "execute_result",
          "data": {
            "text/plain": [
              "['quarter',\n",
              " 'stock',\n",
              " 'date',\n",
              " 'open',\n",
              " 'high',\n",
              " 'low',\n",
              " 'close',\n",
              " 'volume',\n",
              " 'percent_change_price',\n",
              " 'percent_change_volume_over_last_wk',\n",
              " 'previous_weeks_volume',\n",
              " 'next_weeks_open',\n",
              " 'next_weeks_close',\n",
              " 'percent_change_next_weeks_price',\n",
              " 'days_to_next_dividend',\n",
              " 'percent_return_next_dividend']"
            ]
          },
          "metadata": {},
          "execution_count": 9
        }
      ]
    },
    {
      "cell_type": "markdown",
      "metadata": {
        "id": "sqLB9abQxbE-"
      },
      "source": [
        " - Verificando o número de linhas e colunas."
      ]
    },
    {
      "cell_type": "code",
      "metadata": {
        "id": "sBrOUuUVxe7A",
        "colab": {
          "base_uri": "https://localhost:8080/"
        },
        "outputId": "1501c6f4-d8dc-46eb-e6ff-b6217a024d2a"
      },
      "source": [
        "linhas, colunas = df.shape\n",
        "print(f'Número de linhas: {linhas}')\n",
        "print(f'Número de colunas: {colunas}')"
      ],
      "execution_count": 10,
      "outputs": [
        {
          "output_type": "stream",
          "name": "stdout",
          "text": [
            "Número de linhas: 750\n",
            "Número de colunas: 16\n"
          ]
        }
      ]
    },
    {
      "cell_type": "markdown",
      "metadata": {
        "id": "bSN4zYEKyC7L"
      },
      "source": [
        "Vamos selecionar os valores de abertura, fechamento, máximo e mínimo das ações do McDonalds, listado na Dow Jones como MCD:"
      ]
    },
    {
      "cell_type": "markdown",
      "metadata": {
        "id": "CyTuPJmgzbZd"
      },
      "source": [
        " - Selecionando as linha do dataframe original `df` em que a coluna `stock` é igual a `MCD`."
      ]
    },
    {
      "cell_type": "code",
      "metadata": {
        "id": "25XUDMPqqwgH"
      },
      "source": [
        "df_mcd = df[df['stock'] == 'MCD']"
      ],
      "execution_count": 11,
      "outputs": []
    },
    {
      "cell_type": "markdown",
      "metadata": {
        "id": "ga7Z_GA0zxzA"
      },
      "source": [
        " - Selecionando apenas as colunas de data e valores de ações."
      ]
    },
    {
      "cell_type": "code",
      "metadata": {
        "id": "95LDI4jCrMGI"
      },
      "source": [
        "df_mcd = df_mcd[['date', 'open', 'high', 'low', 'close']]"
      ],
      "execution_count": 12,
      "outputs": []
    },
    {
      "cell_type": "markdown",
      "metadata": {
        "id": "ApnHMNYOyQ8T"
      },
      "source": [
        "Excelente, o problema é que as colunas com os valores possuem o carater `$` e são do tipo texto (`object` no `pandas`)."
      ]
    },
    {
      "cell_type": "code",
      "metadata": {
        "id": "DDZZralSr0Zk",
        "colab": {
          "base_uri": "https://localhost:8080/",
          "height": 363
        },
        "outputId": "fb7772ee-b27f-4f8e-c490-2e2a0cfe83ca"
      },
      "source": [
        "df_mcd.head(n=10)"
      ],
      "execution_count": 13,
      "outputs": [
        {
          "output_type": "execute_result",
          "data": {
            "text/plain": [
              "          date    open    high     low   close\n",
              "216   1/7/2011  $77.10  $77.59  $73.59  $74.37\n",
              "217  1/14/2011  $74.25  $74.49  $72.46  $74.06\n",
              "218  1/21/2011  $74.65  $75.75  $74.31  $75.01\n",
              "219  1/28/2011  $74.25  $75.85  $73.05  $73.28\n",
              "220   2/4/2011  $73.80  $74.50  $73.08  $74.05\n",
              "221  2/11/2011  $74.13  $76.32  $73.30  $76.14\n",
              "222  2/18/2011  $76.07  $76.45  $75.70  $76.13\n",
              "223  2/25/2011  $75.95  $76.45  $74.42  $74.44\n",
              "224   3/4/2011  $74.51  $76.63  $73.64  $76.03\n",
              "225  3/11/2011  $76.38  $77.25  $74.97  $76.73"
            ],
            "text/html": [
              "\n",
              "  <div id=\"df-b49c6daf-892f-4ac0-9ac1-52daccd2f796\">\n",
              "    <div class=\"colab-df-container\">\n",
              "      <div>\n",
              "<style scoped>\n",
              "    .dataframe tbody tr th:only-of-type {\n",
              "        vertical-align: middle;\n",
              "    }\n",
              "\n",
              "    .dataframe tbody tr th {\n",
              "        vertical-align: top;\n",
              "    }\n",
              "\n",
              "    .dataframe thead th {\n",
              "        text-align: right;\n",
              "    }\n",
              "</style>\n",
              "<table border=\"1\" class=\"dataframe\">\n",
              "  <thead>\n",
              "    <tr style=\"text-align: right;\">\n",
              "      <th></th>\n",
              "      <th>date</th>\n",
              "      <th>open</th>\n",
              "      <th>high</th>\n",
              "      <th>low</th>\n",
              "      <th>close</th>\n",
              "    </tr>\n",
              "  </thead>\n",
              "  <tbody>\n",
              "    <tr>\n",
              "      <th>216</th>\n",
              "      <td>1/7/2011</td>\n",
              "      <td>$77.10</td>\n",
              "      <td>$77.59</td>\n",
              "      <td>$73.59</td>\n",
              "      <td>$74.37</td>\n",
              "    </tr>\n",
              "    <tr>\n",
              "      <th>217</th>\n",
              "      <td>1/14/2011</td>\n",
              "      <td>$74.25</td>\n",
              "      <td>$74.49</td>\n",
              "      <td>$72.46</td>\n",
              "      <td>$74.06</td>\n",
              "    </tr>\n",
              "    <tr>\n",
              "      <th>218</th>\n",
              "      <td>1/21/2011</td>\n",
              "      <td>$74.65</td>\n",
              "      <td>$75.75</td>\n",
              "      <td>$74.31</td>\n",
              "      <td>$75.01</td>\n",
              "    </tr>\n",
              "    <tr>\n",
              "      <th>219</th>\n",
              "      <td>1/28/2011</td>\n",
              "      <td>$74.25</td>\n",
              "      <td>$75.85</td>\n",
              "      <td>$73.05</td>\n",
              "      <td>$73.28</td>\n",
              "    </tr>\n",
              "    <tr>\n",
              "      <th>220</th>\n",
              "      <td>2/4/2011</td>\n",
              "      <td>$73.80</td>\n",
              "      <td>$74.50</td>\n",
              "      <td>$73.08</td>\n",
              "      <td>$74.05</td>\n",
              "    </tr>\n",
              "    <tr>\n",
              "      <th>221</th>\n",
              "      <td>2/11/2011</td>\n",
              "      <td>$74.13</td>\n",
              "      <td>$76.32</td>\n",
              "      <td>$73.30</td>\n",
              "      <td>$76.14</td>\n",
              "    </tr>\n",
              "    <tr>\n",
              "      <th>222</th>\n",
              "      <td>2/18/2011</td>\n",
              "      <td>$76.07</td>\n",
              "      <td>$76.45</td>\n",
              "      <td>$75.70</td>\n",
              "      <td>$76.13</td>\n",
              "    </tr>\n",
              "    <tr>\n",
              "      <th>223</th>\n",
              "      <td>2/25/2011</td>\n",
              "      <td>$75.95</td>\n",
              "      <td>$76.45</td>\n",
              "      <td>$74.42</td>\n",
              "      <td>$74.44</td>\n",
              "    </tr>\n",
              "    <tr>\n",
              "      <th>224</th>\n",
              "      <td>3/4/2011</td>\n",
              "      <td>$74.51</td>\n",
              "      <td>$76.63</td>\n",
              "      <td>$73.64</td>\n",
              "      <td>$76.03</td>\n",
              "    </tr>\n",
              "    <tr>\n",
              "      <th>225</th>\n",
              "      <td>3/11/2011</td>\n",
              "      <td>$76.38</td>\n",
              "      <td>$77.25</td>\n",
              "      <td>$74.97</td>\n",
              "      <td>$76.73</td>\n",
              "    </tr>\n",
              "  </tbody>\n",
              "</table>\n",
              "</div>\n",
              "      <button class=\"colab-df-convert\" onclick=\"convertToInteractive('df-b49c6daf-892f-4ac0-9ac1-52daccd2f796')\"\n",
              "              title=\"Convert this dataframe to an interactive table.\"\n",
              "              style=\"display:none;\">\n",
              "        \n",
              "  <svg xmlns=\"http://www.w3.org/2000/svg\" height=\"24px\"viewBox=\"0 0 24 24\"\n",
              "       width=\"24px\">\n",
              "    <path d=\"M0 0h24v24H0V0z\" fill=\"none\"/>\n",
              "    <path d=\"M18.56 5.44l.94 2.06.94-2.06 2.06-.94-2.06-.94-.94-2.06-.94 2.06-2.06.94zm-11 1L8.5 8.5l.94-2.06 2.06-.94-2.06-.94L8.5 2.5l-.94 2.06-2.06.94zm10 10l.94 2.06.94-2.06 2.06-.94-2.06-.94-.94-2.06-.94 2.06-2.06.94z\"/><path d=\"M17.41 7.96l-1.37-1.37c-.4-.4-.92-.59-1.43-.59-.52 0-1.04.2-1.43.59L10.3 9.45l-7.72 7.72c-.78.78-.78 2.05 0 2.83L4 21.41c.39.39.9.59 1.41.59.51 0 1.02-.2 1.41-.59l7.78-7.78 2.81-2.81c.8-.78.8-2.07 0-2.86zM5.41 20L4 18.59l7.72-7.72 1.47 1.35L5.41 20z\"/>\n",
              "  </svg>\n",
              "      </button>\n",
              "      \n",
              "  <style>\n",
              "    .colab-df-container {\n",
              "      display:flex;\n",
              "      flex-wrap:wrap;\n",
              "      gap: 12px;\n",
              "    }\n",
              "\n",
              "    .colab-df-convert {\n",
              "      background-color: #E8F0FE;\n",
              "      border: none;\n",
              "      border-radius: 50%;\n",
              "      cursor: pointer;\n",
              "      display: none;\n",
              "      fill: #1967D2;\n",
              "      height: 32px;\n",
              "      padding: 0 0 0 0;\n",
              "      width: 32px;\n",
              "    }\n",
              "\n",
              "    .colab-df-convert:hover {\n",
              "      background-color: #E2EBFA;\n",
              "      box-shadow: 0px 1px 2px rgba(60, 64, 67, 0.3), 0px 1px 3px 1px rgba(60, 64, 67, 0.15);\n",
              "      fill: #174EA6;\n",
              "    }\n",
              "\n",
              "    [theme=dark] .colab-df-convert {\n",
              "      background-color: #3B4455;\n",
              "      fill: #D2E3FC;\n",
              "    }\n",
              "\n",
              "    [theme=dark] .colab-df-convert:hover {\n",
              "      background-color: #434B5C;\n",
              "      box-shadow: 0px 1px 3px 1px rgba(0, 0, 0, 0.15);\n",
              "      filter: drop-shadow(0px 1px 2px rgba(0, 0, 0, 0.3));\n",
              "      fill: #FFFFFF;\n",
              "    }\n",
              "  </style>\n",
              "\n",
              "      <script>\n",
              "        const buttonEl =\n",
              "          document.querySelector('#df-b49c6daf-892f-4ac0-9ac1-52daccd2f796 button.colab-df-convert');\n",
              "        buttonEl.style.display =\n",
              "          google.colab.kernel.accessAllowed ? 'block' : 'none';\n",
              "\n",
              "        async function convertToInteractive(key) {\n",
              "          const element = document.querySelector('#df-b49c6daf-892f-4ac0-9ac1-52daccd2f796');\n",
              "          const dataTable =\n",
              "            await google.colab.kernel.invokeFunction('convertToInteractive',\n",
              "                                                     [key], {});\n",
              "          if (!dataTable) return;\n",
              "\n",
              "          const docLinkHtml = 'Like what you see? Visit the ' +\n",
              "            '<a target=\"_blank\" href=https://colab.research.google.com/notebooks/data_table.ipynb>data table notebook</a>'\n",
              "            + ' to learn more about interactive tables.';\n",
              "          element.innerHTML = '';\n",
              "          dataTable['output_type'] = 'display_data';\n",
              "          await google.colab.output.renderOutput(dataTable, element);\n",
              "          const docLink = document.createElement('div');\n",
              "          docLink.innerHTML = docLinkHtml;\n",
              "          element.appendChild(docLink);\n",
              "        }\n",
              "      </script>\n",
              "    </div>\n",
              "  </div>\n",
              "  "
            ]
          },
          "metadata": {},
          "execution_count": 13
        }
      ]
    },
    {
      "cell_type": "code",
      "metadata": {
        "id": "8cx7gP6TyjOu",
        "colab": {
          "base_uri": "https://localhost:8080/"
        },
        "outputId": "f896574e-eca8-45d1-91cc-a9086b26e627"
      },
      "source": [
        "df_mcd.dtypes"
      ],
      "execution_count": 14,
      "outputs": [
        {
          "output_type": "execute_result",
          "data": {
            "text/plain": [
              "date     object\n",
              "open     object\n",
              "high     object\n",
              "low      object\n",
              "close    object\n",
              "dtype: object"
            ]
          },
          "metadata": {},
          "execution_count": 14
        }
      ]
    },
    {
      "cell_type": "markdown",
      "metadata": {
        "id": "IsSYxtOOys72"
      },
      "source": [
        "Vamos limpar as colunas com o método `apply`, que permite a aplicação de uma função anônima (`lambda`) qualquer. A função `lambda` remove o caracter **$** e faz a conversão do tipo de `str` para `float`."
      ]
    },
    {
      "cell_type": "code",
      "metadata": {
        "id": "u3OGT0r_sFCJ"
      },
      "source": [
        "for col in ['open', 'high', 'low', 'close']:\n",
        "  df_mcd[col] = df_mcd[col].apply(lambda value: float(value.split(sep='$')[-1]))"
      ],
      "execution_count": 15,
      "outputs": []
    },
    {
      "cell_type": "markdown",
      "metadata": {
        "id": "4xEkH-RdzLUi"
      },
      "source": [
        "Verifique novamente os dados e seus tipos."
      ]
    },
    {
      "cell_type": "code",
      "metadata": {
        "id": "4w3-4q1gsv3Y",
        "colab": {
          "base_uri": "https://localhost:8080/",
          "height": 363
        },
        "outputId": "7f3e6961-4899-4cf7-d3fd-ddb8b74025c8"
      },
      "source": [
        "df_mcd.head(n=10)"
      ],
      "execution_count": 16,
      "outputs": [
        {
          "output_type": "execute_result",
          "data": {
            "text/plain": [
              "          date   open   high    low  close\n",
              "216   1/7/2011  77.10  77.59  73.59  74.37\n",
              "217  1/14/2011  74.25  74.49  72.46  74.06\n",
              "218  1/21/2011  74.65  75.75  74.31  75.01\n",
              "219  1/28/2011  74.25  75.85  73.05  73.28\n",
              "220   2/4/2011  73.80  74.50  73.08  74.05\n",
              "221  2/11/2011  74.13  76.32  73.30  76.14\n",
              "222  2/18/2011  76.07  76.45  75.70  76.13\n",
              "223  2/25/2011  75.95  76.45  74.42  74.44\n",
              "224   3/4/2011  74.51  76.63  73.64  76.03\n",
              "225  3/11/2011  76.38  77.25  74.97  76.73"
            ],
            "text/html": [
              "\n",
              "  <div id=\"df-d0bf4c2f-52f8-4fd2-8036-6053d2cc68cf\">\n",
              "    <div class=\"colab-df-container\">\n",
              "      <div>\n",
              "<style scoped>\n",
              "    .dataframe tbody tr th:only-of-type {\n",
              "        vertical-align: middle;\n",
              "    }\n",
              "\n",
              "    .dataframe tbody tr th {\n",
              "        vertical-align: top;\n",
              "    }\n",
              "\n",
              "    .dataframe thead th {\n",
              "        text-align: right;\n",
              "    }\n",
              "</style>\n",
              "<table border=\"1\" class=\"dataframe\">\n",
              "  <thead>\n",
              "    <tr style=\"text-align: right;\">\n",
              "      <th></th>\n",
              "      <th>date</th>\n",
              "      <th>open</th>\n",
              "      <th>high</th>\n",
              "      <th>low</th>\n",
              "      <th>close</th>\n",
              "    </tr>\n",
              "  </thead>\n",
              "  <tbody>\n",
              "    <tr>\n",
              "      <th>216</th>\n",
              "      <td>1/7/2011</td>\n",
              "      <td>77.10</td>\n",
              "      <td>77.59</td>\n",
              "      <td>73.59</td>\n",
              "      <td>74.37</td>\n",
              "    </tr>\n",
              "    <tr>\n",
              "      <th>217</th>\n",
              "      <td>1/14/2011</td>\n",
              "      <td>74.25</td>\n",
              "      <td>74.49</td>\n",
              "      <td>72.46</td>\n",
              "      <td>74.06</td>\n",
              "    </tr>\n",
              "    <tr>\n",
              "      <th>218</th>\n",
              "      <td>1/21/2011</td>\n",
              "      <td>74.65</td>\n",
              "      <td>75.75</td>\n",
              "      <td>74.31</td>\n",
              "      <td>75.01</td>\n",
              "    </tr>\n",
              "    <tr>\n",
              "      <th>219</th>\n",
              "      <td>1/28/2011</td>\n",
              "      <td>74.25</td>\n",
              "      <td>75.85</td>\n",
              "      <td>73.05</td>\n",
              "      <td>73.28</td>\n",
              "    </tr>\n",
              "    <tr>\n",
              "      <th>220</th>\n",
              "      <td>2/4/2011</td>\n",
              "      <td>73.80</td>\n",
              "      <td>74.50</td>\n",
              "      <td>73.08</td>\n",
              "      <td>74.05</td>\n",
              "    </tr>\n",
              "    <tr>\n",
              "      <th>221</th>\n",
              "      <td>2/11/2011</td>\n",
              "      <td>74.13</td>\n",
              "      <td>76.32</td>\n",
              "      <td>73.30</td>\n",
              "      <td>76.14</td>\n",
              "    </tr>\n",
              "    <tr>\n",
              "      <th>222</th>\n",
              "      <td>2/18/2011</td>\n",
              "      <td>76.07</td>\n",
              "      <td>76.45</td>\n",
              "      <td>75.70</td>\n",
              "      <td>76.13</td>\n",
              "    </tr>\n",
              "    <tr>\n",
              "      <th>223</th>\n",
              "      <td>2/25/2011</td>\n",
              "      <td>75.95</td>\n",
              "      <td>76.45</td>\n",
              "      <td>74.42</td>\n",
              "      <td>74.44</td>\n",
              "    </tr>\n",
              "    <tr>\n",
              "      <th>224</th>\n",
              "      <td>3/4/2011</td>\n",
              "      <td>74.51</td>\n",
              "      <td>76.63</td>\n",
              "      <td>73.64</td>\n",
              "      <td>76.03</td>\n",
              "    </tr>\n",
              "    <tr>\n",
              "      <th>225</th>\n",
              "      <td>3/11/2011</td>\n",
              "      <td>76.38</td>\n",
              "      <td>77.25</td>\n",
              "      <td>74.97</td>\n",
              "      <td>76.73</td>\n",
              "    </tr>\n",
              "  </tbody>\n",
              "</table>\n",
              "</div>\n",
              "      <button class=\"colab-df-convert\" onclick=\"convertToInteractive('df-d0bf4c2f-52f8-4fd2-8036-6053d2cc68cf')\"\n",
              "              title=\"Convert this dataframe to an interactive table.\"\n",
              "              style=\"display:none;\">\n",
              "        \n",
              "  <svg xmlns=\"http://www.w3.org/2000/svg\" height=\"24px\"viewBox=\"0 0 24 24\"\n",
              "       width=\"24px\">\n",
              "    <path d=\"M0 0h24v24H0V0z\" fill=\"none\"/>\n",
              "    <path d=\"M18.56 5.44l.94 2.06.94-2.06 2.06-.94-2.06-.94-.94-2.06-.94 2.06-2.06.94zm-11 1L8.5 8.5l.94-2.06 2.06-.94-2.06-.94L8.5 2.5l-.94 2.06-2.06.94zm10 10l.94 2.06.94-2.06 2.06-.94-2.06-.94-.94-2.06-.94 2.06-2.06.94z\"/><path d=\"M17.41 7.96l-1.37-1.37c-.4-.4-.92-.59-1.43-.59-.52 0-1.04.2-1.43.59L10.3 9.45l-7.72 7.72c-.78.78-.78 2.05 0 2.83L4 21.41c.39.39.9.59 1.41.59.51 0 1.02-.2 1.41-.59l7.78-7.78 2.81-2.81c.8-.78.8-2.07 0-2.86zM5.41 20L4 18.59l7.72-7.72 1.47 1.35L5.41 20z\"/>\n",
              "  </svg>\n",
              "      </button>\n",
              "      \n",
              "  <style>\n",
              "    .colab-df-container {\n",
              "      display:flex;\n",
              "      flex-wrap:wrap;\n",
              "      gap: 12px;\n",
              "    }\n",
              "\n",
              "    .colab-df-convert {\n",
              "      background-color: #E8F0FE;\n",
              "      border: none;\n",
              "      border-radius: 50%;\n",
              "      cursor: pointer;\n",
              "      display: none;\n",
              "      fill: #1967D2;\n",
              "      height: 32px;\n",
              "      padding: 0 0 0 0;\n",
              "      width: 32px;\n",
              "    }\n",
              "\n",
              "    .colab-df-convert:hover {\n",
              "      background-color: #E2EBFA;\n",
              "      box-shadow: 0px 1px 2px rgba(60, 64, 67, 0.3), 0px 1px 3px 1px rgba(60, 64, 67, 0.15);\n",
              "      fill: #174EA6;\n",
              "    }\n",
              "\n",
              "    [theme=dark] .colab-df-convert {\n",
              "      background-color: #3B4455;\n",
              "      fill: #D2E3FC;\n",
              "    }\n",
              "\n",
              "    [theme=dark] .colab-df-convert:hover {\n",
              "      background-color: #434B5C;\n",
              "      box-shadow: 0px 1px 3px 1px rgba(0, 0, 0, 0.15);\n",
              "      filter: drop-shadow(0px 1px 2px rgba(0, 0, 0, 0.3));\n",
              "      fill: #FFFFFF;\n",
              "    }\n",
              "  </style>\n",
              "\n",
              "      <script>\n",
              "        const buttonEl =\n",
              "          document.querySelector('#df-d0bf4c2f-52f8-4fd2-8036-6053d2cc68cf button.colab-df-convert');\n",
              "        buttonEl.style.display =\n",
              "          google.colab.kernel.accessAllowed ? 'block' : 'none';\n",
              "\n",
              "        async function convertToInteractive(key) {\n",
              "          const element = document.querySelector('#df-d0bf4c2f-52f8-4fd2-8036-6053d2cc68cf');\n",
              "          const dataTable =\n",
              "            await google.colab.kernel.invokeFunction('convertToInteractive',\n",
              "                                                     [key], {});\n",
              "          if (!dataTable) return;\n",
              "\n",
              "          const docLinkHtml = 'Like what you see? Visit the ' +\n",
              "            '<a target=\"_blank\" href=https://colab.research.google.com/notebooks/data_table.ipynb>data table notebook</a>'\n",
              "            + ' to learn more about interactive tables.';\n",
              "          element.innerHTML = '';\n",
              "          dataTable['output_type'] = 'display_data';\n",
              "          await google.colab.output.renderOutput(dataTable, element);\n",
              "          const docLink = document.createElement('div');\n",
              "          docLink.innerHTML = docLinkHtml;\n",
              "          element.appendChild(docLink);\n",
              "        }\n",
              "      </script>\n",
              "    </div>\n",
              "  </div>\n",
              "  "
            ]
          },
          "metadata": {},
          "execution_count": 16
        }
      ]
    },
    {
      "cell_type": "code",
      "metadata": {
        "id": "FDZyy9SVzPoK",
        "colab": {
          "base_uri": "https://localhost:8080/"
        },
        "outputId": "d4c78e59-a3bc-47ce-b25a-82689dcc34e6"
      },
      "source": [
        "df_mcd.dtypes"
      ],
      "execution_count": 17,
      "outputs": [
        {
          "output_type": "execute_result",
          "data": {
            "text/plain": [
              "date      object\n",
              "open     float64\n",
              "high     float64\n",
              "low      float64\n",
              "close    float64\n",
              "dtype: object"
            ]
          },
          "metadata": {},
          "execution_count": 17
        }
      ]
    },
    {
      "cell_type": "markdown",
      "metadata": {
        "id": "lIzrYVGWkRJ9"
      },
      "source": [
        "Excelente, agora podemos explorar os dados visualmente."
      ]
    },
    {
      "cell_type": "markdown",
      "metadata": {
        "id": "_-TI78q1yuQa"
      },
      "source": [
        "**Agora é a sua vez!** Conduza o mesmo processo para extrair e tratar os dados da empresa Coca-Cola (`stock` column igual a `KO`)."
      ]
    },
    {
      "cell_type": "code",
      "metadata": {
        "id": "fGbOS3kNzNNF"
      },
      "source": [
        "# extração e tratamento dos dados da empresa Coca-Cola."
      ],
      "execution_count": 18,
      "outputs": []
    },
    {
      "cell_type": "code",
      "source": [
        "df_ko = df[df['stock'] == 'KO']"
      ],
      "metadata": {
        "id": "P4T1VhNT8jlF"
      },
      "execution_count": 36,
      "outputs": []
    },
    {
      "cell_type": "code",
      "source": [
        "df_ko = df_ko[['date', 'open', 'high', 'low', 'close']]"
      ],
      "metadata": {
        "id": "yzrwWEhW9GPw"
      },
      "execution_count": 37,
      "outputs": []
    },
    {
      "cell_type": "code",
      "source": [
        "for col in ['open', 'high', 'low', 'close']:\n",
        "  df_mcd[col] = df_ko[col].apply(lambda value: float(value.split(sep='$')[-1]))"
      ],
      "metadata": {
        "id": "g_Pb-_r_9RrS"
      },
      "execution_count": 38,
      "outputs": []
    },
    {
      "cell_type": "code",
      "source": [
        "df_ko.head(n=10)"
      ],
      "metadata": {
        "colab": {
          "base_uri": "https://localhost:8080/",
          "height": 363
        },
        "id": "X46Y8jr59Urp",
        "outputId": "a51807b2-8ec8-4c47-8b29-1be2ec63be61"
      },
      "execution_count": 39,
      "outputs": [
        {
          "output_type": "execute_result",
          "data": {
            "text/plain": [
              "          date    open    high     low   close\n",
              "204   1/7/2011  $65.88  $65.88  $62.56  $62.92\n",
              "205  1/14/2011  $62.70  $63.86  $62.56  $63.13\n",
              "206  1/21/2011  $63.21  $63.92  $62.72  $62.77\n",
              "207  1/28/2011  $62.87  $63.31  $62.14  $62.21\n",
              "208   2/4/2011  $62.32  $63.48  $61.89  $62.56\n",
              "209  2/11/2011  $62.67  $64.75  $62.32  $63.57\n",
              "210  2/18/2011  $63.67  $64.72  $62.55  $64.55\n",
              "211  2/25/2011  $63.36  $64.40  $63.33  $64.31\n",
              "212   3/4/2011  $64.17  $65.87  $63.86  $65.21\n",
              "213  3/11/2011  $65.32  $65.84  $64.47  $64.81"
            ],
            "text/html": [
              "\n",
              "  <div id=\"df-23fdb3ec-c369-426f-bcc4-a5897d5abca0\">\n",
              "    <div class=\"colab-df-container\">\n",
              "      <div>\n",
              "<style scoped>\n",
              "    .dataframe tbody tr th:only-of-type {\n",
              "        vertical-align: middle;\n",
              "    }\n",
              "\n",
              "    .dataframe tbody tr th {\n",
              "        vertical-align: top;\n",
              "    }\n",
              "\n",
              "    .dataframe thead th {\n",
              "        text-align: right;\n",
              "    }\n",
              "</style>\n",
              "<table border=\"1\" class=\"dataframe\">\n",
              "  <thead>\n",
              "    <tr style=\"text-align: right;\">\n",
              "      <th></th>\n",
              "      <th>date</th>\n",
              "      <th>open</th>\n",
              "      <th>high</th>\n",
              "      <th>low</th>\n",
              "      <th>close</th>\n",
              "    </tr>\n",
              "  </thead>\n",
              "  <tbody>\n",
              "    <tr>\n",
              "      <th>204</th>\n",
              "      <td>1/7/2011</td>\n",
              "      <td>$65.88</td>\n",
              "      <td>$65.88</td>\n",
              "      <td>$62.56</td>\n",
              "      <td>$62.92</td>\n",
              "    </tr>\n",
              "    <tr>\n",
              "      <th>205</th>\n",
              "      <td>1/14/2011</td>\n",
              "      <td>$62.70</td>\n",
              "      <td>$63.86</td>\n",
              "      <td>$62.56</td>\n",
              "      <td>$63.13</td>\n",
              "    </tr>\n",
              "    <tr>\n",
              "      <th>206</th>\n",
              "      <td>1/21/2011</td>\n",
              "      <td>$63.21</td>\n",
              "      <td>$63.92</td>\n",
              "      <td>$62.72</td>\n",
              "      <td>$62.77</td>\n",
              "    </tr>\n",
              "    <tr>\n",
              "      <th>207</th>\n",
              "      <td>1/28/2011</td>\n",
              "      <td>$62.87</td>\n",
              "      <td>$63.31</td>\n",
              "      <td>$62.14</td>\n",
              "      <td>$62.21</td>\n",
              "    </tr>\n",
              "    <tr>\n",
              "      <th>208</th>\n",
              "      <td>2/4/2011</td>\n",
              "      <td>$62.32</td>\n",
              "      <td>$63.48</td>\n",
              "      <td>$61.89</td>\n",
              "      <td>$62.56</td>\n",
              "    </tr>\n",
              "    <tr>\n",
              "      <th>209</th>\n",
              "      <td>2/11/2011</td>\n",
              "      <td>$62.67</td>\n",
              "      <td>$64.75</td>\n",
              "      <td>$62.32</td>\n",
              "      <td>$63.57</td>\n",
              "    </tr>\n",
              "    <tr>\n",
              "      <th>210</th>\n",
              "      <td>2/18/2011</td>\n",
              "      <td>$63.67</td>\n",
              "      <td>$64.72</td>\n",
              "      <td>$62.55</td>\n",
              "      <td>$64.55</td>\n",
              "    </tr>\n",
              "    <tr>\n",
              "      <th>211</th>\n",
              "      <td>2/25/2011</td>\n",
              "      <td>$63.36</td>\n",
              "      <td>$64.40</td>\n",
              "      <td>$63.33</td>\n",
              "      <td>$64.31</td>\n",
              "    </tr>\n",
              "    <tr>\n",
              "      <th>212</th>\n",
              "      <td>3/4/2011</td>\n",
              "      <td>$64.17</td>\n",
              "      <td>$65.87</td>\n",
              "      <td>$63.86</td>\n",
              "      <td>$65.21</td>\n",
              "    </tr>\n",
              "    <tr>\n",
              "      <th>213</th>\n",
              "      <td>3/11/2011</td>\n",
              "      <td>$65.32</td>\n",
              "      <td>$65.84</td>\n",
              "      <td>$64.47</td>\n",
              "      <td>$64.81</td>\n",
              "    </tr>\n",
              "  </tbody>\n",
              "</table>\n",
              "</div>\n",
              "      <button class=\"colab-df-convert\" onclick=\"convertToInteractive('df-23fdb3ec-c369-426f-bcc4-a5897d5abca0')\"\n",
              "              title=\"Convert this dataframe to an interactive table.\"\n",
              "              style=\"display:none;\">\n",
              "        \n",
              "  <svg xmlns=\"http://www.w3.org/2000/svg\" height=\"24px\"viewBox=\"0 0 24 24\"\n",
              "       width=\"24px\">\n",
              "    <path d=\"M0 0h24v24H0V0z\" fill=\"none\"/>\n",
              "    <path d=\"M18.56 5.44l.94 2.06.94-2.06 2.06-.94-2.06-.94-.94-2.06-.94 2.06-2.06.94zm-11 1L8.5 8.5l.94-2.06 2.06-.94-2.06-.94L8.5 2.5l-.94 2.06-2.06.94zm10 10l.94 2.06.94-2.06 2.06-.94-2.06-.94-.94-2.06-.94 2.06-2.06.94z\"/><path d=\"M17.41 7.96l-1.37-1.37c-.4-.4-.92-.59-1.43-.59-.52 0-1.04.2-1.43.59L10.3 9.45l-7.72 7.72c-.78.78-.78 2.05 0 2.83L4 21.41c.39.39.9.59 1.41.59.51 0 1.02-.2 1.41-.59l7.78-7.78 2.81-2.81c.8-.78.8-2.07 0-2.86zM5.41 20L4 18.59l7.72-7.72 1.47 1.35L5.41 20z\"/>\n",
              "  </svg>\n",
              "      </button>\n",
              "      \n",
              "  <style>\n",
              "    .colab-df-container {\n",
              "      display:flex;\n",
              "      flex-wrap:wrap;\n",
              "      gap: 12px;\n",
              "    }\n",
              "\n",
              "    .colab-df-convert {\n",
              "      background-color: #E8F0FE;\n",
              "      border: none;\n",
              "      border-radius: 50%;\n",
              "      cursor: pointer;\n",
              "      display: none;\n",
              "      fill: #1967D2;\n",
              "      height: 32px;\n",
              "      padding: 0 0 0 0;\n",
              "      width: 32px;\n",
              "    }\n",
              "\n",
              "    .colab-df-convert:hover {\n",
              "      background-color: #E2EBFA;\n",
              "      box-shadow: 0px 1px 2px rgba(60, 64, 67, 0.3), 0px 1px 3px 1px rgba(60, 64, 67, 0.15);\n",
              "      fill: #174EA6;\n",
              "    }\n",
              "\n",
              "    [theme=dark] .colab-df-convert {\n",
              "      background-color: #3B4455;\n",
              "      fill: #D2E3FC;\n",
              "    }\n",
              "\n",
              "    [theme=dark] .colab-df-convert:hover {\n",
              "      background-color: #434B5C;\n",
              "      box-shadow: 0px 1px 3px 1px rgba(0, 0, 0, 0.15);\n",
              "      filter: drop-shadow(0px 1px 2px rgba(0, 0, 0, 0.3));\n",
              "      fill: #FFFFFF;\n",
              "    }\n",
              "  </style>\n",
              "\n",
              "      <script>\n",
              "        const buttonEl =\n",
              "          document.querySelector('#df-23fdb3ec-c369-426f-bcc4-a5897d5abca0 button.colab-df-convert');\n",
              "        buttonEl.style.display =\n",
              "          google.colab.kernel.accessAllowed ? 'block' : 'none';\n",
              "\n",
              "        async function convertToInteractive(key) {\n",
              "          const element = document.querySelector('#df-23fdb3ec-c369-426f-bcc4-a5897d5abca0');\n",
              "          const dataTable =\n",
              "            await google.colab.kernel.invokeFunction('convertToInteractive',\n",
              "                                                     [key], {});\n",
              "          if (!dataTable) return;\n",
              "\n",
              "          const docLinkHtml = 'Like what you see? Visit the ' +\n",
              "            '<a target=\"_blank\" href=https://colab.research.google.com/notebooks/data_table.ipynb>data table notebook</a>'\n",
              "            + ' to learn more about interactive tables.';\n",
              "          element.innerHTML = '';\n",
              "          dataTable['output_type'] = 'display_data';\n",
              "          await google.colab.output.renderOutput(dataTable, element);\n",
              "          const docLink = document.createElement('div');\n",
              "          docLink.innerHTML = docLinkHtml;\n",
              "          element.appendChild(docLink);\n",
              "        }\n",
              "      </script>\n",
              "    </div>\n",
              "  </div>\n",
              "  "
            ]
          },
          "metadata": {},
          "execution_count": 39
        }
      ]
    },
    {
      "cell_type": "markdown",
      "metadata": {
        "id": "AAyOBwWQkRJ-"
      },
      "source": [
        "---"
      ]
    },
    {
      "cell_type": "markdown",
      "metadata": {
        "id": "1YCQI-BskR5H"
      },
      "source": [
        "## 2\\. Seaborn"
      ]
    },
    {
      "cell_type": "markdown",
      "metadata": {
        "id": "VSgsKxY4kR5I"
      },
      "source": [
        "Para visualizar os dados, vamos utilizar o pacote `seaborn` na versão `0.11.1`. A documentação completa por ser encontrada neste [link](https://seaborn.pydata.org/)"
      ]
    },
    {
      "cell_type": "code",
      "metadata": {
        "id": "fYNfn2eDs1MN",
        "colab": {
          "base_uri": "https://localhost:8080/"
        },
        "outputId": "a4f81796-5de8-4013-a942-c82860b01488"
      },
      "source": [
        "!pip install seaborn==0.11.1"
      ],
      "execution_count": 21,
      "outputs": [
        {
          "output_type": "stream",
          "name": "stdout",
          "text": [
            "Looking in indexes: https://pypi.org/simple, https://us-python.pkg.dev/colab-wheels/public/simple/\n",
            "Collecting seaborn==0.11.1\n",
            "  Downloading seaborn-0.11.1-py3-none-any.whl (285 kB)\n",
            "\u001b[K     |████████████████████████████████| 285 kB 14.5 MB/s \n",
            "\u001b[?25hRequirement already satisfied: numpy>=1.15 in /usr/local/lib/python3.7/dist-packages (from seaborn==0.11.1) (1.21.6)\n",
            "Requirement already satisfied: pandas>=0.23 in /usr/local/lib/python3.7/dist-packages (from seaborn==0.11.1) (1.1.5)\n",
            "Requirement already satisfied: matplotlib>=2.2 in /usr/local/lib/python3.7/dist-packages (from seaborn==0.11.1) (3.2.2)\n",
            "Requirement already satisfied: scipy>=1.0 in /usr/local/lib/python3.7/dist-packages (from seaborn==0.11.1) (1.5.4)\n",
            "Requirement already satisfied: kiwisolver>=1.0.1 in /usr/local/lib/python3.7/dist-packages (from matplotlib>=2.2->seaborn==0.11.1) (1.4.3)\n",
            "Requirement already satisfied: python-dateutil>=2.1 in /usr/local/lib/python3.7/dist-packages (from matplotlib>=2.2->seaborn==0.11.1) (2.8.2)\n",
            "Requirement already satisfied: pyparsing!=2.0.4,!=2.1.2,!=2.1.6,>=2.0.1 in /usr/local/lib/python3.7/dist-packages (from matplotlib>=2.2->seaborn==0.11.1) (3.0.9)\n",
            "Requirement already satisfied: cycler>=0.10 in /usr/local/lib/python3.7/dist-packages (from matplotlib>=2.2->seaborn==0.11.1) (0.11.0)\n",
            "Requirement already satisfied: typing-extensions in /usr/local/lib/python3.7/dist-packages (from kiwisolver>=1.0.1->matplotlib>=2.2->seaborn==0.11.1) (4.1.1)\n",
            "Requirement already satisfied: pytz>=2017.2 in /usr/local/lib/python3.7/dist-packages (from pandas>=0.23->seaborn==0.11.1) (2022.1)\n",
            "Requirement already satisfied: six>=1.5 in /usr/local/lib/python3.7/dist-packages (from python-dateutil>=2.1->matplotlib>=2.2->seaborn==0.11.1) (1.15.0)\n",
            "Installing collected packages: seaborn\n",
            "  Attempting uninstall: seaborn\n",
            "    Found existing installation: seaborn 0.11.2\n",
            "    Uninstalling seaborn-0.11.2:\n",
            "      Successfully uninstalled seaborn-0.11.2\n",
            "Successfully installed seaborn-0.11.1\n"
          ]
        }
      ]
    },
    {
      "cell_type": "markdown",
      "metadata": {
        "id": "DtuGrHyQ0CJ-"
      },
      "source": [
        "Vamos importar o pacote com o apelido (alias) `sns`."
      ]
    },
    {
      "cell_type": "code",
      "metadata": {
        "id": "fAeWYQjis8E5"
      },
      "source": [
        "import seaborn as sns"
      ],
      "execution_count": 22,
      "outputs": []
    },
    {
      "cell_type": "markdown",
      "metadata": {
        "id": "TqYmOY1m0Eh3"
      },
      "source": [
        "Vamos visualizar o os valores de abertura das ações ao longo do tempo."
      ]
    },
    {
      "cell_type": "code",
      "metadata": {
        "id": "7-5D1wKcwAuO",
        "colab": {
          "base_uri": "https://localhost:8080/",
          "height": 321
        },
        "outputId": "6b5e8fe6-4fbc-41f0-f835-148013847d0b"
      },
      "source": [
        "plot = sns.lineplot(x=\"date\", y=\"open\", data=df_mcd)\n",
        "_ = plot.set_xticklabels(labels=df_mcd['date'], rotation=90)"
      ],
      "execution_count": 51,
      "outputs": [
        {
          "output_type": "display_data",
          "data": {
            "text/plain": [
              "<Figure size 432x288 with 1 Axes>"
            ],
            "image/png": "[encoded data removed]"
          },
          "metadata": {
            "needs_background": "light"
          }
        }
      ]
    },
    {
      "cell_type": "markdown",
      "metadata": {
        "id": "gh5Fz23t0MA-"
      },
      "source": [
        "Vamos também visualizar o os valores de fechamento das ações ao longo do tempo."
      ]
    },
    {
      "cell_type": "markdown",
      "metadata": {
        "id": "08BOzhId0TfH"
      },
      "source": [
        "Para facilitar a comparação, vamo visualizar os quatro valores no mesmo gráfico."
      ]
    },
    {
      "cell_type": "code",
      "metadata": {
        "id": "boKoMZbXtAJV",
        "colab": {
          "base_uri": "https://localhost:8080/",
          "height": 321
        },
        "outputId": "0319b23b-f89d-4991-f104-569273d67407"
      },
      "source": [
        "plot = sns.lineplot(x=\"date\", y=\"value\", hue='variable', data=pd.melt(df_ko, ['date']))\n",
        "_ = plot.set_xticklabels(labels=df_ko['date'], rotation=90)"
      ],
      "execution_count": 43,
      "outputs": [
        {
          "output_type": "display_data",
          "data": {
            "text/plain": [
              "<Figure size 432x288 with 1 Axes>"
            ],
            "image/png": "[encoded data removed]"
          },
          "metadata": {
            "needs_background": "light"
          }
        }
      ]
    },
    {
      "cell_type": "markdown",
      "metadata": {
        "id": "H6nM4hJQ1mnb"
      },
      "source": [
        "Para finalizar, vamos salvar o gráfico numa figura."
      ]
    },
    {
      "cell_type": "code",
      "metadata": {
        "id": "I7Wncbvd1lzE"
      },
      "source": [
        "plot.figure.savefig(\"./mcd.png\")"
      ],
      "execution_count": 34,
      "outputs": []
    },
    {
      "cell_type": "markdown",
      "metadata": {
        "id": "4mJNcUM7kR5J"
      },
      "source": [
        "**Agora é a sua vez,** faça o gráfico acima para a empresa Coca-Cola e salve a imagem com o nome `ko.png`."
      ]
    },
    {
      "cell_type": "code",
      "metadata": {
        "id": "0S_xMlt_zjwV"
      },
      "source": [
        "# visualização dos dados da Coca-Cola.\n",
        "plot.figure.savefig(\"./KO.png\")"
      ],
      "execution_count": 44,
      "outputs": []
    },
    {
      "cell_type": "markdown",
      "metadata": {
        "id": "fYM0WRi0zoQx"
      },
      "source": [
        "Analise as duas imagens e escreva pelo menos um *insight* que você consegue extrair dos dados. Fique a vontade para escrever quantos *insights* você quiser."
      ]
    },
    {
      "cell_type": "markdown",
      "metadata": {
        "id": "xGcI2Yl-0xBY"
      },
      "source": [
        "**Insight #1**: ..."
      ]
    },
    {
      "cell_type": "code",
      "metadata": {
        "id": "5QARzs47wP_O",
        "colab": {
          "base_uri": "https://localhost:8080/",
          "height": 321
        },
        "outputId": "275390a1-b786-459d-ec65-c7b9ec525f42"
      },
      "source": [
        "plot = sns.lineplot(x=\"date\", y=\"close\", data=df_ko)\n",
        "_ = plot.set_xticklabels(labels=df_ko['date'], rotation=90)"
      ],
      "execution_count": 49,
      "outputs": [
        {
          "output_type": "display_data",
          "data": {
            "text/plain": [
              "<Figure size 432x288 with 1 Axes>"
            ],
            "image/png": "[encoded data removed]"
          },
          "metadata": {
            "needs_background": "light"
          }
        }
      ]
    },
    {
      "cell_type": "markdown",
      "source": [
        "Insight 1\n",
        "\n",
        "O grafico esta apresentando algum problema quando visualizamos os dados dos valores de fechamento das ações ao longo do tempo.\n",
        "\n",
        "Vemos que há um declinio acentuado, talvez o servidor não esteja enviando as cotações corretas.\n",
        "\n",
        "Observando o codigo, percebi que no grafico do McDonalds a letra y=\"open\"\n",
        "mostrando as cotações.\n",
        "\n",
        "No caso da Coca Cola o mesmo trecho esta com a letra y=\"close\" nnao sei qual o significado, bom vou continuar pesquisando.\n",
        "\n",
        "sns.lineplot(x=\"date\", y=\"close\", data=df_ko)\n",
        "\n",
        "\n"
      ],
      "metadata": {
        "id": "hCY7mFlhBDw1"
      }
    },
    {
      "cell_type": "markdown",
      "source": [
        "![Screen Shot 2022-07-12 at 17.37.33.png](data:image/png;base64,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)"
      ],
      "metadata": {
        "id": "GVJOXyngKp7u"
      }
    },
    {
      "cell_type": "code",
      "source": [
        "plot = sns.lineplot(x=\"date\", y=\"close\", data=df_ko)\n",
        "_ = plot.set_xticklabels(labels=df_ko['date'], rotation=90)"
      ],
      "metadata": {
        "colab": {
          "base_uri": "https://localhost:8080/",
          "height": 321
        },
        "id": "K9EQKlrKItJ4",
        "outputId": "1ebf1c7d-7e82-4a7f-b1b8-fff95a4f3986"
      },
      "execution_count": 52,
      "outputs": [
        {
          "output_type": "display_data",
          "data": {
            "text/plain": [
              "<Figure size 432x288 with 1 Axes>"
            ],
            "image/png": "[encoded data removed]"
          },
          "metadata": {
            "needs_background": "light"
          }
        }
      ]
    },
    {
      "cell_type": "markdown",
      "metadata": {
        "id": "8Ubx9z_NkR5K"
      },
      "source": [
        "---"
      ]
    }
  ]
}