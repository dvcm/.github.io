{
  "nbformat": 4,
  "nbformat_minor": 0,
  "metadata": {
    "colab": {
      "name": "Exercicios-EBAC-30-6-2022.ipynb",
      "private_outputs": true,
      "provenance": [],
      "authorship_tag": "ABX9TyND1EUUfswJhnMWw20z6rEp",
      "include_colab_link": true
    },
    "kernelspec": {
      "name": "python3",
      "display_name": "Python 3"
    },
    "language_info": {
      "name": "python"
    },
    "gpuClass": "standard"
  },
  "cells": [
    {
      "cell_type": "markdown",
      "metadata": {
        "id": "view-in-github",
        "colab_type": "text"
      },
      "source": [
        "<a href=\"https://colab.research.google.com/github/dvcm/.github.io/blob/main/Exercicios_EBAC_30_6_2022.ipynb\" target=\"_parent\"><img src=\"https://colab.research.google.com/assets/colab-badge.svg\" alt=\"Open In Colab\"/></a>"
      ]
    },
    {
      "cell_type": "code",
      "source": [
        "nome = 'Olá Mundo!'\n",
        "\n",
        "apresentacao = f' {nome}'\n",
        "print(apresentacao)"
      ],
      "metadata": {
        "id": "EeLJfNSmLB9L"
      },
      "execution_count": null,
      "outputs": []
    },
    {
      "cell_type": "markdown",
      "source": [
        "Dia Valor Total Vendas Qtd Total Vendas Ticket Medio\n",
        "\n",
        "19/01 (0.009359790340696368) 3 320.52\n",
        "\n",
        "20/01 834.47 (0.025165674020635853) 119.21\n",
        "\n",
        "23/01 15378.12 5 (3075.6240000000003)"
      ],
      "metadata": {
        "id": "5nkc2oiIM9si"
      }
    },
    {
      "cell_type": "code",
      "execution_count": null,
      "metadata": {
        "id": "9J0Nhc0xK45W"
      },
      "outputs": [],
      "source": [
        "svv_19 = 3\n",
        "sqv_19 = 320.52\n",
        "\n",
        "tkt_19 = svv_19 / sqv_19\n",
        "print(tkt_19) "
      ]
    },
    {
      "cell_type": "code",
      "source": [
        "svv_20 = 834,47\n",
        "sqv_20 = 119.21\n",
        "\n",
        "tkt_20 = svv_19 / sqv_20\n",
        "print(tkt_20) "
      ],
      "metadata": {
        "id": "RGVmLLUwMheg"
      },
      "execution_count": null,
      "outputs": []
    },
    {
      "cell_type": "code",
      "source": [
        "svv_21 = 15378.12\n",
        "sqv_21 = 5\n",
        "\n",
        "tkt_21 = svv_21 / sqv_21\n",
        "\n",
        "\n",
        "print(tkt_21) "
      ],
      "metadata": {
        "id": "7AL18lXyM9M6"
      },
      "execution_count": null,
      "outputs": []
    },
    {
      "cell_type": "markdown",
      "source": [
        "**2. Números**\n",
        "\n",
        "Extraia da string abaixo o valor da taxa selic na variável \n",
        "selic e o valor do ano na variavel\n",
        "\n",
        "ano . Imprima os valores na tela."
      ],
      "metadata": {
        "id": "3kPE2tpZ4mN8"
      }
    },
    {
      "cell_type": "code",
      "source": [
        "cancao = 'Roda mundo, roda gigante, roda moinho, roda pião.'\n",
        "\n",
        "\n",
        "print(cancao)\n",
        "print(type(cancao))"
      ],
      "metadata": {
        "id": "RnSQzyoROVA3"
      },
      "execution_count": null,
      "outputs": []
    },
    {
      "cell_type": "code",
      "source": [
        "cancao = 'Roda mundo, roda gigante, roda moinho, roda pião.'\n",
        "print(cancao.upper())"
      ],
      "metadata": {
        "id": "PAWqht4N51eE"
      },
      "execution_count": null,
      "outputs": []
    },
    {
      "cell_type": "code",
      "source": [
        "cancao = \"Roda\"\n",
        "x = cancao.center(50)\n",
        "print(x)"
      ],
      "metadata": {
        "id": "YYukVDa555K-"
      },
      "execution_count": null,
      "outputs": []
    },
    {
      "cell_type": "code",
      "source": [
        "cancao = 'Roda mundo, roda gigante, roda moinho, roda pião.'\n",
        "\n",
        "x = cancao.find(\"roda moinho\")\n",
        "\n",
        "print(x)"
      ],
      "metadata": {
        "id": "CLy5O-tk6McH"
      },
      "execution_count": null,
      "outputs": []
    },
    {
      "cell_type": "code",
      "source": [
        "cancao = 'Roda mundo, roda gigante, roda moinho, roda pião.'\n",
        "\n",
        "x = cancao.isalnum()\n",
        "\n",
        "print(x)"
      ],
      "metadata": {
        "id": "-cSHRlsx6MyX"
      },
      "execution_count": null,
      "outputs": []
    },
    {
      "cell_type": "code",
      "source": [
        "cancao = (\"Roda mundo\", \"roda moinho\", \"roda piao\")\n",
        "\n",
        "x = \"#\".join(cancao)\n",
        "\n",
        "print(x)\n"
      ],
      "metadata": {
        "id": "oX-HvtjM6iqm"
      },
      "execution_count": null,
      "outputs": []
    },
    {
      "cell_type": "code",
      "source": [
        "cancao = \"Roda\"\n",
        "\n",
        "x = cancao.ljust(20)\n",
        "\n",
        "print(x, \"mundo, roda gigante, roda moinho, roda pião.\")"
      ],
      "metadata": {
        "id": "jzkxmRoI9hRF"
      },
      "execution_count": null,
      "outputs": []
    },
    {
      "cell_type": "code",
      "source": [
        "cancao = \"Roda mundo, roda gigante, roda moinho, roda pião.\"\n",
        "\n",
        "x = cancao.title()\n",
        "\n",
        "print(x)"
      ],
      "metadata": {
        "id": "hEGJOy5r9ikx"
      },
      "execution_count": null,
      "outputs": []
    },
    {
      "cell_type": "markdown",
      "source": [
        "Extraia da string abaixo o valor da taxa selic \n",
        "na variável selic e o valor do ano na variavel\n",
        "ano . Imprima os valores na tela."
      ],
      "metadata": {
        "id": "p4WZnneICXM-"
      }
    },
    {
      "cell_type": "markdown",
      "source": [
        "**3. Strings**\n",
        "\n",
        "Usei o metodo slicing ou fatiamento"
      ],
      "metadata": {
        "id": "fMFhdTyLLMgS"
      }
    },
    {
      "cell_type": "code",
      "source": [
        "noticia = 'Selic vai a 2,75% e supera expectativas; ' + \\\n",
        " 'é a primeira alta em 6 anos.'\n",
        "\n",
        "noticia_selic = noticia[12:17]  \n",
        "print(noticia_selic)\n",
        "\n",
        "noticia_ano = noticia[62:69]  \n",
        "print(noticia_ano)\n",
        "\n",
        "apresentacao = f'Variavel Selic = {noticia_selic}, e a variável ano = {noticia_ano}'\n",
        "print(apresentacao)"
      ],
      "metadata": {
        "id": "rsJR1FvhCWqJ"
      },
      "execution_count": null,
      "outputs": []
    },
    {
      "cell_type": "markdown",
      "source": [
        "**4. Booleanos**\n",
        "\n",
        "Utilize a tabela da verdade para responder: qual o valor da variável x?\n"
      ],
      "metadata": {
        "id": "Mxq1Am7XLoOX"
      }
    },
    {
      "cell_type": "code",
      "source": [
        "a = False\n",
        "b = True\n",
        "x = not a & b\n",
        "\n",
        "print(x)"
      ],
      "metadata": {
        "id": "TG2iOiwaLswd"
      },
      "execution_count": null,
      "outputs": []
    }
  ]
}