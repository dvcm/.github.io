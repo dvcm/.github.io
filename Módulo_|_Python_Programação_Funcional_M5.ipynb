{
  "nbformat": 4,
  "nbformat_minor": 0,
  "metadata": {
    "colab": {
      "name": "Módulo | Python: Programação Funcional M5.ipynb",
      "private_outputs": true,
      "provenance": [],
      "authorship_tag": "ABX9TyOarR9iy8vwXzU4Kmza/maT",
      "include_colab_link": true
    },
    "kernelspec": {
      "name": "python3",
      "display_name": "Python 3"
    },
    "language_info": {
      "name": "python"
    }
  },
  "cells": [
    {
      "cell_type": "markdown",
      "metadata": {
        "id": "view-in-github",
        "colab_type": "text"
      },
      "source": [
        "<a href=\"https://colab.research.google.com/github/dvcm/.github.io/blob/main/M%C3%B3dulo_%7C_Python_Programa%C3%A7%C3%A3o_Funcional_M5.ipynb\" target=\"_parent\"><img src=\"https://colab.research.google.com/assets/colab-badge.svg\" alt=\"Open In Colab\"/></a>"
      ]
    },
    {
      "cell_type": "markdown",
      "source": [
        "**0. Preparação do ambiente**\n",
        "\n",
        "Neste exercício vamos trabalhar com o arquivo csv com dados de crédito, definido abaixo.\n",
        "\n",
        "Execute cada uma das células de código para escrever os arquivos na sua máquina virtual.\n"
      ],
      "metadata": {
        "id": "4elcyNIR89Cs"
      }
    },
    {
      "cell_type": "code",
      "execution_count": null,
      "metadata": {
        "id": "AoaRPcWN83lz"
      },
      "outputs": [],
      "source": [
        "%%writefile credito.csv\n",
        "id_vendedor,valor_emprestimos,quantidade_emprestimos,data\n",
        "104271,448.0,1,20161208\n",
        "21476,826.7,3,20161208\n",
        "87440,313.6,3,20161208\n",
        "15980,-8008.0,6,20161208\n",
        "215906,2212.0,5,20161208\n",
        "33696,2771.3,2,20161208\n",
        "33893,2240.0,3,20161208\n",
        "214946,-4151.0,18,20161208\n",
        "123974,2021.95,2,20161208\n",
        "225870,4039.0,2,20161208"
      ]
    },
    {
      "cell_type": "markdown",
      "source": [
        "Vamos ler o conteúdo do arquivo em uma lista onde cada elemento é um dicionário\n",
        "representando as linhas do arquivo"
      ],
      "metadata": {
        "id": "K_fbgGIg9YZ7"
      }
    },
    {
      "cell_type": "code",
      "source": [
        "emprestimos = []\n",
        "with open(file='./credito.csv', mode='r', encoding='utf8') as fp:\n",
        "  fp.readline() # cabeçalho\n",
        "  linha = fp.readline()\n",
        "  while linha:\n",
        "    linha_emprestimo = {}\n",
        "    linha_elementos = linha.strip().split(sep=',')\n",
        "    linha_emprestimo['id_vendedor'] = linha_elementos[0]\n",
        "    linha_emprestimo['valor_emprestimos'] = linha_elementos[1]\n",
        "    linha_emprestimo['quantidade_emprestimos'] = linha_elementos[2]\n",
        "    linha_emprestimo['data'] = linha_elementos[3]\n",
        "    emprestimos.append(linha_emprestimo)\n",
        "    linha = fp.readline()"
      ],
      "metadata": {
        "id": "GdRzOhx89bb0"
      },
      "execution_count": null,
      "outputs": []
    },
    {
      "cell_type": "code",
      "source": [
        "  for emprestimo in emprestimos:\n",
        "    print(emprestimo)"
      ],
      "metadata": {
        "id": "2A5eMeexpLau"
      },
      "execution_count": null,
      "outputs": []
    },
    {
      "cell_type": "markdown",
      "source": [
        "**1. Função map**\n",
        "\n",
        "Aplique a função map na lista de emprestimos para extrair os valores da chave\n",
        "valor_emprestimos na lista valor_emprestimos_lista . Faça também a conversão\n",
        "de str para float ."
      ],
      "metadata": {
        "id": "p9QrYdiV8pVR"
      }
    },
    {
      "cell_type": "code",
      "source": [
        "# pegando uma linha do banco de dados credito para analisar e extarir os dados necessarios\n",
        "#id_vendedor,valor_emprestimos,quantidade_emprestimos,data\n",
        "#104271,448.0,1,20161208\n",
        "\n",
        "\n",
        "valor_emprestimos_lista = map(lambda valor: float(valor['valor_emprestimos']), emprestimos)\n",
        "print(list(valor_emprestimos_lista))\n",
        "\n",
        "# neste exemplo extraindo o campo id_vendedor\n",
        "valor_emprestimos_lista = map(lambda valor: float(valor['id_vendedor']), emprestimos)\n",
        "print(list(valor_emprestimos_lista))\n",
        "\n",
        "# neste exemplo extraindo o campo quantidade_emprestimos\n",
        "valor_emprestimos_lista = map(lambda valor: float(valor['quantidade_emprestimos']), emprestimos)\n",
        "print(list(valor_emprestimos_lista))\n",
        "\n",
        "# neste exemplo extraindo o campo data\n",
        "valor_emprestimos_lista = map(lambda valor: float(valor['data']), emprestimos)\n",
        "print(list(valor_emprestimos_lista))\n",
        "\n",
        "#numeros = [1, 2, 3]\n",
        "#numeros_ao_cubo = map(lambda num: num ** 3, numeros)\n",
        "#print(list(numeros_ao_cubo))\n",
        "\n"
      ],
      "metadata": {
        "id": "4Fc4y1R68tvU"
      },
      "execution_count": null,
      "outputs": []
    },
    {
      "cell_type": "markdown",
      "source": [
        "**2. Função filter**\n",
        "\n",
        "Aplique a função filter na lista de valor_emprestimos_lista para filtrar apenas os valores\n",
        "\n",
        "maiores que zero (os valores negativas são erros na base de dados). Salve os valores na lista\n",
        "valor_emprestimos_lista_filtrada ."
      ],
      "metadata": {
        "id": "pCl_T51A9Bj2"
      }
    },
    {
      "cell_type": "code",
      "source": [
        "valor_emprestimos_lista = [448.0, 826.7, 313.6, -8008.0, 2212.0, 2771.3, 2240.0, -4151.0, 2021.95, 4039.0]\n",
        "valor_emprestimos_lista_filtrada = filter(lambda num:  num > 0, valor_emprestimos_lista)\n",
        "print(list(valor_emprestimos_lista_filtrada))"
      ],
      "metadata": {
        "id": "bf7gBDIIr2vs"
      },
      "execution_count": null,
      "outputs": []
    },
    {
      "cell_type": "code",
      "source": [
        "# etrei neste link https://www.geeksforgeeks.org/filter-in-python/?ref=lbp \n",
        "#para estudar como montar uma consulta filter \n",
        "\n",
        "\n",
        "valor_emprestimos_lista_filtrada = [448.0, 826.7, 313.6, -8008.0, 2212.0, 2771.3, 2240.0, -4151.0, 2021.95, 4039.0]\n",
        "# result contains odd numbers of the list\n",
        "result = filter(lambda num: num >0, valor_emprestimos_lista_filtrada)\n",
        "print(list(result))\n",
        "  \n",
        "# result contains even numbers of the list\n",
        "result = filter(lambda x: x % 2 == 0, valor_emprestimos_lista_filtrada)\n",
        "print(list(result))\n",
        "\n",
        "print(valor_emprestimos_lista_filtrada) # [448.0, 826.7, ..., 4039.0]"
      ],
      "metadata": {
        "id": "_p43adzs9FiT"
      },
      "execution_count": null,
      "outputs": []
    },
    {
      "cell_type": "code",
      "source": [
        "def maior_que_zero(num):\n",
        "    if num > 0:\n",
        "        return True\n",
        "    else:\n",
        "        return False\n",
        "\n",
        "valor_emprestimos_lista_filtrada = filter(maior_que_zero, valor_emprestimos_lista)\n",
        "print(list(valor_emprestimos_lista_filtrada))"
      ],
      "metadata": {
        "id": "6rY0dC9ItTZB"
      },
      "execution_count": null,
      "outputs": []
    },
    {
      "cell_type": "markdown",
      "source": [
        "**3. Função reduce**\n",
        "\n",
        "Com a nossa lista de valores de emprestimo pronta, vamos extrair algumas métricas.\n",
        "\n",
        "**3.1. Função reduce para extrair a soma**\n",
        "\n",
        "Aplique a função reduce para somar os elementos da lista\n",
        "valor_emprestimos_lista_filtrada na variavel soma_valor_emprestimos ."
      ],
      "metadata": {
        "id": "LnhHPzbG9LD5"
      }
    },
    {
      "cell_type": "code",
      "source": [
        "#from functools import reduce\n",
        "#soma_valor_emprestimos = ...\n",
        "\n",
        "#print(soma_valor_emprestimos) # 14872.550000000001\n",
        "\n",
        "valor_emprestimos_lista_filtrada = [448.0, 826.7, 313.6, 2212.0, 2771.3, 2240.0, 2021.95, 4039.0]\n",
        "soma_valor_emprestimos = sum(n for n in valor_emprestimos_lista_filtrada)\n",
        "\n",
        "print(soma_valor_emprestimos)"
      ],
      "metadata": {
        "id": "UZDheEQQ9WEm"
      },
      "execution_count": null,
      "outputs": []
    },
    {
      "cell_type": "code",
      "source": [
        "media_valor_emprestimos = sum(valor_emprestimos_lista_filtrada)\n",
        "print(media_valor_emprestimos)"
      ],
      "metadata": {
        "id": "WFpB1PhRu9Jc"
      },
      "execution_count": null,
      "outputs": []
    },
    {
      "cell_type": "markdown",
      "source": [
        "**3.2. Função reduce para extrair a media aritimética**\n",
        "\n",
        "Aplique a função reduce para extrair a média aritimética (mais informações aqui) dos elementos\n",
        "da lista \n",
        "valor_emprestimos_lista_filtrada na variavel\n",
        "media_valor_emprestimos ."
      ],
      "metadata": {
        "id": "nbr3RPGo9dYG"
      }
    },
    {
      "cell_type": "code",
      "source": [
        "from functools import reduce  \n",
        "\n",
        "soma_valor_emprestimo = reduce(lambda x,y: x+y, valor_emprestimos_lista_filtrada)\n",
        "print(soma_valor_emprestimo)"
      ],
      "metadata": {
        "id": "eOvXK7Sw9iwe"
      },
      "execution_count": null,
      "outputs": []
    },
    {
      "cell_type": "markdown",
      "source": [
        "**3.3. (Desafio) Função reduce para extrair o desvio padrão**\n",
        "\n",
        "Aplique a função reduce para extrair a média aritimética (mais informações aqui) dos elementos\n",
        "da lista \n",
        "valor_emprestimos_lista_filtrada na variavel\n",
        "desvio_padrao_valor_emprestimos "
      ],
      "metadata": {
        "id": "o2brfdJF9oBD"
      }
    },
    {
      "cell_type": "code",
      "source": [
        "from functools import reduce\n",
        "desvio_padrao_valor_emprestimos = ...\n",
        "\n",
        "print(desvio_padrao_valor_emprestimos) # 1271.997271149785"
      ],
      "metadata": {
        "id": "5Ue2rFUQ9uYR"
      },
      "execution_count": null,
      "outputs": []
    },
    {
      "cell_type": "code",
      "source": [
        "media_desvio = reduce(lambda x,y: x+y, valor_emprestimos_lista_filtrada) / len(valor_emprestimos_lista_filtrada) \n",
        "print(media_desvio)"
      ],
      "metadata": {
        "id": "1E2fku5P9_VG"
      },
      "execution_count": null,
      "outputs": []
    },
    {
      "cell_type": "code",
      "source": [
        "import math \n",
        "\n",
        "raiz_unidade = []\n",
        "\n",
        "for i in valor_emprestimos_lista_filtrada:\n",
        "    raiz_unidade.append(math.sqrt(i))  #calcular raiz quadrada\n",
        "print(raiz_unidade)"
      ],
      "metadata": {
        "id": "gtagcws3wZdL"
      },
      "execution_count": null,
      "outputs": []
    },
    {
      "cell_type": "code",
      "source": [
        "desvio_padrao_valor_emprestimos = reduce(lambda x,y: x+y, raiz_unidade) / len(valor_emprestimos_lista_filtrada)\n",
        "print(desvio_padrao_valor_emprestimos)"
      ],
      "metadata": {
        "id": "j1AGd1CYww2x"
      },
      "execution_count": null,
      "outputs": []
    }
  ]
}